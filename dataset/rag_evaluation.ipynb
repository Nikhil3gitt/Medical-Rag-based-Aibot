{
 "cells": [
  {
   "cell_type": "code",
   "execution_count": 9,
   "id": "8515b064-1c76-433f-9f71-ed143c2f315d",
   "metadata": {},
   "outputs": [],
   "source": [
    "# Import necessary libraries\n",
    "import json\n",
    "import os\n",
    "\n",
    "import pandas as pd\n",
    "import openai\n",
    "import sys\n",
    "# Append the parent folder to the system path\n",
    "sys.path.append(os.path.abspath(os.path.join(os.getcwd(), os.pardir)))\n",
    "# Now you can import config.py\n",
    "from groq import Groq\n",
    "from dotenv import load_dotenv\n",
    "from sklearn.feature_extraction.text import CountVectorizer\n",
    "from tqdm.auto import tqdm"
   ]
  },
  {
   "cell_type": "code",
   "execution_count": 6,
   "id": "340fc549-ed3c-458e-a6eb-0e175a459866",
   "metadata": {},
   "outputs": [
    {
     "data": {
      "text/plain": [
       "False"
      ]
     },
     "execution_count": 6,
     "metadata": {},
     "output_type": "execute_result"
    }
   ],
   "source": [
    "# Load environment variables\n",
    "from dotenv import load_dotenv\n",
    "\n",
    "load_dotenv()"
   ]
  },
  {
   "cell_type": "code",
   "execution_count": 1,
   "id": "72282ff8-aeb9-4c3f-b4b0-f90639e939ce",
   "metadata": {},
   "outputs": [],
   "source": [
    "import pandas as pd\n",
    "\n",
    "df = pd.read_parquet(\"hf://datasets/lavita/ChatDoctor-iCliniq/data/train-00000-of-00001-7f15f39e4c3a7ee9.parquet\")"
   ]
  },
  {
   "cell_type": "code",
   "execution_count": 2,
   "id": "5194891e-7df3-4eb2-9542-f2a18f43eec4",
   "metadata": {},
   "outputs": [
    {
     "data": {
      "text/plain": [
       "(7321, 4)"
      ]
     },
     "execution_count": 2,
     "metadata": {},
     "output_type": "execute_result"
    }
   ],
   "source": [
    "df.shape"
   ]
  },
  {
   "cell_type": "code",
   "execution_count": 4,
   "id": "484b18e9-071e-403b-98dc-21bfd8c0a593",
   "metadata": {},
   "outputs": [
    {
     "data": {
      "text/plain": [
       "Index(['input', 'answer_icliniq', 'answer_chatgpt', 'answer_chatdoctor'], dtype='object')"
      ]
     },
     "execution_count": 4,
     "metadata": {},
     "output_type": "execute_result"
    }
   ],
   "source": [
    "df.columns"
   ]
  },
  {
   "cell_type": "code",
   "execution_count": 5,
   "id": "b5ea2bb0-6034-4fb2-91d2-f4d73dca9fb0",
   "metadata": {},
   "outputs": [
    {
     "data": {
      "text/html": [
       "<div>\n",
       "<style scoped>\n",
       "    .dataframe tbody tr th:only-of-type {\n",
       "        vertical-align: middle;\n",
       "    }\n",
       "\n",
       "    .dataframe tbody tr th {\n",
       "        vertical-align: top;\n",
       "    }\n",
       "\n",
       "    .dataframe thead th {\n",
       "        text-align: right;\n",
       "    }\n",
       "</style>\n",
       "<table border=\"1\" class=\"dataframe\">\n",
       "  <thead>\n",
       "    <tr style=\"text-align: right;\">\n",
       "      <th></th>\n",
       "      <th>input</th>\n",
       "      <th>answer_icliniq</th>\n",
       "      <th>answer_chatgpt</th>\n",
       "      <th>answer_chatdoctor</th>\n",
       "    </tr>\n",
       "  </thead>\n",
       "  <tbody>\n",
       "    <tr>\n",
       "      <th>0</th>\n",
       "      <td>Hello doctor,I had mumps five months ago and a...</td>\n",
       "      <td>Hello, Welcome to Chat Doctor forum. I can und...</td>\n",
       "      <td>It is possible that you still have an infectio...</td>\n",
       "      <td>1) There is no need to worry about reinfection...</td>\n",
       "    </tr>\n",
       "    <tr>\n",
       "      <th>1</th>\n",
       "      <td>Hello doctor,I am trying to conceive but my hu...</td>\n",
       "      <td>Hello, Wellcome to ChatDoctor. There are few r...</td>\n",
       "      <td>Hello! Thank you for reaching out.\\n\\nCocaine ...</td>\n",
       "      <td>1) Cocaine use can affect fertility by causing...</td>\n",
       "    </tr>\n",
       "    <tr>\n",
       "      <th>2</th>\n",
       "      <td>Hello doctor,I am currently on the Yaz contrac...</td>\n",
       "      <td>Hello. The brown discharge should be temporary...</td>\n",
       "      <td>Hello! It's not uncommon to experience some ir...</td>\n",
       "      <td>1) The brown discharge is due to the hormonal ...</td>\n",
       "    </tr>\n",
       "  </tbody>\n",
       "</table>\n",
       "</div>"
      ],
      "text/plain": [
       "                                               input  \\\n",
       "0  Hello doctor,I had mumps five months ago and a...   \n",
       "1  Hello doctor,I am trying to conceive but my hu...   \n",
       "2  Hello doctor,I am currently on the Yaz contrac...   \n",
       "\n",
       "                                      answer_icliniq  \\\n",
       "0  Hello, Welcome to Chat Doctor forum. I can und...   \n",
       "1  Hello, Wellcome to ChatDoctor. There are few r...   \n",
       "2  Hello. The brown discharge should be temporary...   \n",
       "\n",
       "                                      answer_chatgpt  \\\n",
       "0  It is possible that you still have an infectio...   \n",
       "1  Hello! Thank you for reaching out.\\n\\nCocaine ...   \n",
       "2  Hello! It's not uncommon to experience some ir...   \n",
       "\n",
       "                                   answer_chatdoctor  \n",
       "0  1) There is no need to worry about reinfection...  \n",
       "1  1) Cocaine use can affect fertility by causing...  \n",
       "2  1) The brown discharge is due to the hormonal ...  "
      ]
     },
     "execution_count": 5,
     "metadata": {},
     "output_type": "execute_result"
    }
   ],
   "source": [
    "df.head(3)"
   ]
  },
  {
   "cell_type": "markdown",
   "id": "17ef4f39-890a-47ff-a20e-305f42733851",
   "metadata": {},
   "source": [
    "# Embeddings columns"
   ]
  },
  {
   "cell_type": "code",
   "execution_count": 6,
   "id": "0a4338ad-c901-4142-aff3-f30afc3e74c5",
   "metadata": {},
   "outputs": [
    {
     "name": "stdout",
     "output_type": "stream",
     "text": [
      "WARNING:tensorflow:From C:\\Users\\nakka\\AppData\\Local\\Programs\\Python\\Python312\\Lib\\site-packages\\tf_keras\\src\\losses.py:2976: The name tf.losses.sparse_softmax_cross_entropy is deprecated. Please use tf.compat.v1.losses.sparse_softmax_cross_entropy instead.\n",
      "\n"
     ]
    }
   ],
   "source": [
    "from sentence_transformers import SentenceTransformer\n",
    "import pandas as pd\n",
    "import faiss\n",
    "import numpy as np"
   ]
  },
  {
   "cell_type": "code",
   "execution_count": 7,
   "id": "fde1ec1c-c4cd-4b98-8be9-aa61ea171ed4",
   "metadata": {},
   "outputs": [
    {
     "data": {
      "application/vnd.jupyter.widget-view+json": {
       "model_id": "e0af258d084c433a84d715d339f64684",
       "version_major": 2,
       "version_minor": 0
      },
      "text/plain": [
       "modules.json:   0%|          | 0.00/349 [00:00<?, ?B/s]"
      ]
     },
     "metadata": {},
     "output_type": "display_data"
    },
    {
     "name": "stderr",
     "output_type": "stream",
     "text": [
      "C:\\Users\\nakka\\AppData\\Local\\Programs\\Python\\Python312\\Lib\\site-packages\\huggingface_hub\\file_download.py:159: UserWarning: `huggingface_hub` cache-system uses symlinks by default to efficiently store duplicated files but your machine does not support them in C:\\Users\\nakka\\.cache\\huggingface\\hub\\models--sentence-transformers--all-MiniLM-L6-v2. Caching files will still work but in a degraded version that might require more space on your disk. This warning can be disabled by setting the `HF_HUB_DISABLE_SYMLINKS_WARNING` environment variable. For more details, see https://huggingface.co/docs/huggingface_hub/how-to-cache#limitations.\n",
      "To support symlinks on Windows, you either need to activate Developer Mode or to run Python as an administrator. In order to see activate developer mode, see this article: https://docs.microsoft.com/en-us/windows/apps/get-started/enable-your-device-for-development\n",
      "  warnings.warn(message)\n"
     ]
    },
    {
     "data": {
      "application/vnd.jupyter.widget-view+json": {
       "model_id": "98f220b4d60a4a799a140c9902293808",
       "version_major": 2,
       "version_minor": 0
      },
      "text/plain": [
       "config_sentence_transformers.json:   0%|          | 0.00/116 [00:00<?, ?B/s]"
      ]
     },
     "metadata": {},
     "output_type": "display_data"
    },
    {
     "data": {
      "application/vnd.jupyter.widget-view+json": {
       "model_id": "e58e1e77557e4421ae9ad1728b2b93d1",
       "version_major": 2,
       "version_minor": 0
      },
      "text/plain": [
       "README.md:   0%|          | 0.00/10.7k [00:00<?, ?B/s]"
      ]
     },
     "metadata": {},
     "output_type": "display_data"
    },
    {
     "data": {
      "application/vnd.jupyter.widget-view+json": {
       "model_id": "fbbff01faf244ff7adad8eae486a7562",
       "version_major": 2,
       "version_minor": 0
      },
      "text/plain": [
       "sentence_bert_config.json:   0%|          | 0.00/53.0 [00:00<?, ?B/s]"
      ]
     },
     "metadata": {},
     "output_type": "display_data"
    },
    {
     "data": {
      "application/vnd.jupyter.widget-view+json": {
       "model_id": "5e8c1a9467be468497c6fd1541c351ce",
       "version_major": 2,
       "version_minor": 0
      },
      "text/plain": [
       "config.json:   0%|          | 0.00/612 [00:00<?, ?B/s]"
      ]
     },
     "metadata": {},
     "output_type": "display_data"
    },
    {
     "data": {
      "application/vnd.jupyter.widget-view+json": {
       "model_id": "76ea19a07a844e3c9e4c45575e93bce5",
       "version_major": 2,
       "version_minor": 0
      },
      "text/plain": [
       "model.safetensors:   0%|          | 0.00/90.9M [00:00<?, ?B/s]"
      ]
     },
     "metadata": {},
     "output_type": "display_data"
    },
    {
     "data": {
      "application/vnd.jupyter.widget-view+json": {
       "model_id": "123f943cfece4512a982e3905fbfbb34",
       "version_major": 2,
       "version_minor": 0
      },
      "text/plain": [
       "tokenizer_config.json:   0%|          | 0.00/350 [00:00<?, ?B/s]"
      ]
     },
     "metadata": {},
     "output_type": "display_data"
    },
    {
     "data": {
      "application/vnd.jupyter.widget-view+json": {
       "model_id": "71708c1778914dbd9ca1fc8181cf8fcd",
       "version_major": 2,
       "version_minor": 0
      },
      "text/plain": [
       "vocab.txt:   0%|          | 0.00/232k [00:00<?, ?B/s]"
      ]
     },
     "metadata": {},
     "output_type": "display_data"
    },
    {
     "data": {
      "application/vnd.jupyter.widget-view+json": {
       "model_id": "a9c2d30fa1e74cbe818a777cac0b6ebc",
       "version_major": 2,
       "version_minor": 0
      },
      "text/plain": [
       "tokenizer.json:   0%|          | 0.00/466k [00:00<?, ?B/s]"
      ]
     },
     "metadata": {},
     "output_type": "display_data"
    },
    {
     "data": {
      "application/vnd.jupyter.widget-view+json": {
       "model_id": "3556a5bcccf04232b289736e812ad9c9",
       "version_major": 2,
       "version_minor": 0
      },
      "text/plain": [
       "special_tokens_map.json:   0%|          | 0.00/112 [00:00<?, ?B/s]"
      ]
     },
     "metadata": {},
     "output_type": "display_data"
    },
    {
     "name": "stderr",
     "output_type": "stream",
     "text": [
      "C:\\Users\\nakka\\AppData\\Local\\Programs\\Python\\Python312\\Lib\\site-packages\\transformers\\tokenization_utils_base.py:1601: FutureWarning: `clean_up_tokenization_spaces` was not set. It will be set to `True` by default. This behavior will be depracted in transformers v4.45, and will be then set to `False` by default. For more details check this issue: https://github.com/huggingface/transformers/issues/31884\n",
      "  warnings.warn(\n"
     ]
    },
    {
     "data": {
      "application/vnd.jupyter.widget-view+json": {
       "model_id": "cdbb88e20d8e432fa0cfa3e859b26713",
       "version_major": 2,
       "version_minor": 0
      },
      "text/plain": [
       "1_Pooling/config.json:   0%|          | 0.00/190 [00:00<?, ?B/s]"
      ]
     },
     "metadata": {},
     "output_type": "display_data"
    }
   ],
   "source": [
    "# Initialize the SentenceTransformer model\n",
    "model = SentenceTransformer('all-MiniLM-L6-v2')\n",
    "# Generate embeddings for the input column\n",
    "question_embeddings = model.encode(df['input'].tolist(), convert_to_numpy=True)"
   ]
  },
  {
   "cell_type": "code",
   "execution_count": 8,
   "id": "36eb3e25-04fe-47e3-8ecc-8d8fe6bf5512",
   "metadata": {},
   "outputs": [
    {
     "data": {
      "text/html": [
       "<div>\n",
       "<style scoped>\n",
       "    .dataframe tbody tr th:only-of-type {\n",
       "        vertical-align: middle;\n",
       "    }\n",
       "\n",
       "    .dataframe tbody tr th {\n",
       "        vertical-align: top;\n",
       "    }\n",
       "\n",
       "    .dataframe thead th {\n",
       "        text-align: right;\n",
       "    }\n",
       "</style>\n",
       "<table border=\"1\" class=\"dataframe\">\n",
       "  <thead>\n",
       "    <tr style=\"text-align: right;\">\n",
       "      <th></th>\n",
       "      <th>input</th>\n",
       "      <th>answer_icliniq</th>\n",
       "      <th>answer_chatgpt</th>\n",
       "      <th>answer_chatdoctor</th>\n",
       "    </tr>\n",
       "  </thead>\n",
       "  <tbody>\n",
       "    <tr>\n",
       "      <th>0</th>\n",
       "      <td>Hello doctor,I had mumps five months ago and a...</td>\n",
       "      <td>Hello, Welcome to Chat Doctor forum. I can und...</td>\n",
       "      <td>It is possible that you still have an infectio...</td>\n",
       "      <td>1) There is no need to worry about reinfection...</td>\n",
       "    </tr>\n",
       "    <tr>\n",
       "      <th>1</th>\n",
       "      <td>Hello doctor,I am trying to conceive but my hu...</td>\n",
       "      <td>Hello, Wellcome to ChatDoctor. There are few r...</td>\n",
       "      <td>Hello! Thank you for reaching out.\\n\\nCocaine ...</td>\n",
       "      <td>1) Cocaine use can affect fertility by causing...</td>\n",
       "    </tr>\n",
       "    <tr>\n",
       "      <th>2</th>\n",
       "      <td>Hello doctor,I am currently on the Yaz contrac...</td>\n",
       "      <td>Hello. The brown discharge should be temporary...</td>\n",
       "      <td>Hello! It's not uncommon to experience some ir...</td>\n",
       "      <td>1) The brown discharge is due to the hormonal ...</td>\n",
       "    </tr>\n",
       "    <tr>\n",
       "      <th>3</th>\n",
       "      <td>Hello doctor,My son aged 13 years has got his ...</td>\n",
       "      <td>Hello, Welcome to Chat Doctor forum. I have go...</td>\n",
       "      <td>As an AI language model, I am not a doctor and...</td>\n",
       "      <td>Hi, welcome to Chat Doctor forum. I understand...</td>\n",
       "    </tr>\n",
       "    <tr>\n",
       "      <th>4</th>\n",
       "      <td>Hello doctor,I just got one side of my wisdom ...</td>\n",
       "      <td>Hello. The lump is mostly a hard swelling whic...</td>\n",
       "      <td>Hello,\\n\\nIt is normal to have some swelling a...</td>\n",
       "      <td>Hi, Thanks for your query. It appears that you...</td>\n",
       "    </tr>\n",
       "  </tbody>\n",
       "</table>\n",
       "</div>"
      ],
      "text/plain": [
       "                                               input  \\\n",
       "0  Hello doctor,I had mumps five months ago and a...   \n",
       "1  Hello doctor,I am trying to conceive but my hu...   \n",
       "2  Hello doctor,I am currently on the Yaz contrac...   \n",
       "3  Hello doctor,My son aged 13 years has got his ...   \n",
       "4  Hello doctor,I just got one side of my wisdom ...   \n",
       "\n",
       "                                      answer_icliniq  \\\n",
       "0  Hello, Welcome to Chat Doctor forum. I can und...   \n",
       "1  Hello, Wellcome to ChatDoctor. There are few r...   \n",
       "2  Hello. The brown discharge should be temporary...   \n",
       "3  Hello, Welcome to Chat Doctor forum. I have go...   \n",
       "4  Hello. The lump is mostly a hard swelling whic...   \n",
       "\n",
       "                                      answer_chatgpt  \\\n",
       "0  It is possible that you still have an infectio...   \n",
       "1  Hello! Thank you for reaching out.\\n\\nCocaine ...   \n",
       "2  Hello! It's not uncommon to experience some ir...   \n",
       "3  As an AI language model, I am not a doctor and...   \n",
       "4  Hello,\\n\\nIt is normal to have some swelling a...   \n",
       "\n",
       "                                   answer_chatdoctor  \n",
       "0  1) There is no need to worry about reinfection...  \n",
       "1  1) Cocaine use can affect fertility by causing...  \n",
       "2  1) The brown discharge is due to the hormonal ...  \n",
       "3  Hi, welcome to Chat Doctor forum. I understand...  \n",
       "4  Hi, Thanks for your query. It appears that you...  "
      ]
     },
     "execution_count": 8,
     "metadata": {},
     "output_type": "execute_result"
    }
   ],
   "source": [
    "df.head()"
   ]
  },
  {
   "cell_type": "code",
   "execution_count": 9,
   "id": "fe15251a-2b61-4b36-9e32-9b5b4a36ba12",
   "metadata": {},
   "outputs": [
    {
     "data": {
      "text/plain": [
       "Index(['input', 'answer_icliniq', 'answer_chatgpt', 'answer_chatdoctor'], dtype='object')"
      ]
     },
     "execution_count": 9,
     "metadata": {},
     "output_type": "execute_result"
    }
   ],
   "source": [
    "df.columns"
   ]
  },
  {
   "cell_type": "code",
   "execution_count": 11,
   "id": "fb55955b-6f93-4a58-bc27-5fda82d099d3",
   "metadata": {},
   "outputs": [
    {
     "data": {
      "text/plain": [
       "array([[-0.03187011, -0.01305723,  0.03453286, ..., -0.05491394,\n",
       "         0.06469719,  0.04996957],\n",
       "       [-0.00565126, -0.00903827, -0.04345672, ...,  0.06669873,\n",
       "         0.03208437, -0.03703978],\n",
       "       [-0.00982077, -0.04181525, -0.05341623, ..., -0.16608874,\n",
       "        -0.02976253,  0.06784043],\n",
       "       ...,\n",
       "       [ 0.05819432, -0.03614795, -0.03024961, ..., -0.01062565,\n",
       "        -0.02319748,  0.1076974 ],\n",
       "       [-0.02549623, -0.05261699, -0.05192121, ..., -0.10069826,\n",
       "         0.01680332, -0.03787581],\n",
       "       [ 0.04309299, -0.06010891, -0.01793998, ..., -0.03323974,\n",
       "         0.03040628,  0.00521657]], dtype=float32)"
      ]
     },
     "execution_count": 11,
     "metadata": {},
     "output_type": "execute_result"
    }
   ],
   "source": [
    "question_embeddings"
   ]
  },
  {
   "cell_type": "markdown",
   "id": "332d75ff-e018-4003-8d95-00f7c6fe4f37",
   "metadata": {},
   "source": [
    "# Create a FAISS Index and Add Embeddings:"
   ]
  },
  {
   "cell_type": "code",
   "execution_count": 12,
   "id": "4aa03afa-ac8e-40f9-a062-59bb5e3b1198",
   "metadata": {},
   "outputs": [],
   "source": [
    "# Define the dimensionality of the embeddings\n",
    "dimension = question_embeddings.shape[1]\n",
    "index = faiss.IndexFlatL2(dimension)\n",
    "\n",
    "# Add the embeddings to the FAISS index\n",
    "index.add(np.array(question_embeddings, dtype='float32'))\n"
   ]
  },
  {
   "cell_type": "code",
   "execution_count": 36,
   "id": "15fa522f-b416-4b97-82cf-cdee0623d13e",
   "metadata": {},
   "outputs": [
    {
     "name": "stdout",
     "output_type": "stream",
     "text": [
      "                                                  input  \\\n",
      "4017  Hello doctor,I have pain in the right knee for...   \n",
      "5569  Hello doctor,I used to play sports. Now after ...   \n",
      "406   Hi doctor,I started with the gym last week. I ...   \n",
      "3727  Hello doctor,I am 21 years old, medically fit....   \n",
      "3293  Hello doctor,I have knee pain for the past one...   \n",
      "2044  Hello doctor,I am 26 years old, and I weigh 96...   \n",
      "\n",
      "                                         answer_icliniq  \\\n",
      "4017  Hello, Welcome to Chat Doctor forum. Your X-ra...   \n",
      "5569  Hello, Welcome to Chat Doctor forum. I read yo...   \n",
      "406   Hi. It is common to have pain when you start a...   \n",
      "3727  Hi. I have thoroughly gone through your case a...   \n",
      "3293  Hello, Welcome to Chat Doctor forum. Pain may ...   \n",
      "2044  Hello, Welcome to Chat Doctor forum. You are v...   \n",
      "\n",
      "                                         answer_chatgpt  \\\n",
      "4017  Hello,\\n\\nBased on your description, it seems ...   \n",
      "5569  Hello! It's important to rest and allow your m...   \n",
      "406   I'm sorry to hear about your pain. Knee pain i...   \n",
      "3727  Hi! Based on the symptoms you have described, ...   \n",
      "3293  Hello,\\n\\nThank you for getting in touch. Knee...   \n",
      "2044  Hello,\\n\\nBased on the symptoms you described,...   \n",
      "\n",
      "                                      answer_chatdoctor  \n",
      "4017  Hi, Welcome to Chat Doctor.com I am Chat Docto...  \n",
      "5569  1) First - rule out any injury to your knee jo...  \n",
      "406   1) Pain in knee after exercise - this is due t...  \n",
      "3727  Hi, Welcome to Chat Doctor.com I am Chat Docto...  \n",
      "3293  Hi, thank you for providing the brief history ...  \n",
      "2044  Hi, thanks for writing to Chat Doctor. I under...  \n"
     ]
    }
   ],
   "source": [
    "query = \"I am trying to conceive, but my husband uses cocaine. What should I do?\"\n",
    "\n",
    "query = \"Can i exercise with pain in my knee\"\n",
    "\n",
    "\n",
    "query_embedding = model.encode([query], convert_to_numpy=True)\n",
    "\n",
    "# Search for the nearest neighbors\n",
    "k = 6  # Number of closest matches\n",
    "distances, indices = index.search(np.array(query_embedding, dtype='float32'), k)\n",
    "\n",
    "# Retrieve the results\n",
    "results = df.iloc[indices[0]]\n",
    "print(results)\n",
    "\n",
    "matching_questions = df.iloc[indices[0]]  # Get the row data of closest matches"
   ]
  },
  {
   "cell_type": "code",
   "execution_count": 40,
   "id": "28510d7a-0055-4a22-bf08-20f307fef335",
   "metadata": {},
   "outputs": [
    {
     "data": {
      "text/html": [
       "<div>\n",
       "<style scoped>\n",
       "    .dataframe tbody tr th:only-of-type {\n",
       "        vertical-align: middle;\n",
       "    }\n",
       "\n",
       "    .dataframe tbody tr th {\n",
       "        vertical-align: top;\n",
       "    }\n",
       "\n",
       "    .dataframe thead th {\n",
       "        text-align: right;\n",
       "    }\n",
       "</style>\n",
       "<table border=\"1\" class=\"dataframe\">\n",
       "  <thead>\n",
       "    <tr style=\"text-align: right;\">\n",
       "      <th></th>\n",
       "      <th>input</th>\n",
       "      <th>answer_icliniq</th>\n",
       "      <th>answer_chatgpt</th>\n",
       "      <th>answer_chatdoctor</th>\n",
       "    </tr>\n",
       "  </thead>\n",
       "  <tbody>\n",
       "    <tr>\n",
       "      <th>4017</th>\n",
       "      <td>Hello doctor,I have pain in the right knee for...</td>\n",
       "      <td>Hello, Welcome to Chat Doctor forum. Your X-ra...</td>\n",
       "      <td>Hello,\\n\\nBased on your description, it seems ...</td>\n",
       "      <td>Hi, Welcome to Chat Doctor.com I am Chat Docto...</td>\n",
       "    </tr>\n",
       "    <tr>\n",
       "      <th>5569</th>\n",
       "      <td>Hello doctor,I used to play sports. Now after ...</td>\n",
       "      <td>Hello, Welcome to Chat Doctor forum. I read yo...</td>\n",
       "      <td>Hello! It's important to rest and allow your m...</td>\n",
       "      <td>1) First - rule out any injury to your knee jo...</td>\n",
       "    </tr>\n",
       "    <tr>\n",
       "      <th>406</th>\n",
       "      <td>Hi doctor,I started with the gym last week. I ...</td>\n",
       "      <td>Hi. It is common to have pain when you start a...</td>\n",
       "      <td>I'm sorry to hear about your pain. Knee pain i...</td>\n",
       "      <td>1) Pain in knee after exercise - this is due t...</td>\n",
       "    </tr>\n",
       "    <tr>\n",
       "      <th>3727</th>\n",
       "      <td>Hello doctor,I am 21 years old, medically fit....</td>\n",
       "      <td>Hi. I have thoroughly gone through your case a...</td>\n",
       "      <td>Hi! Based on the symptoms you have described, ...</td>\n",
       "      <td>Hi, Welcome to Chat Doctor.com I am Chat Docto...</td>\n",
       "    </tr>\n",
       "    <tr>\n",
       "      <th>3293</th>\n",
       "      <td>Hello doctor,I have knee pain for the past one...</td>\n",
       "      <td>Hello, Welcome to Chat Doctor forum. Pain may ...</td>\n",
       "      <td>Hello,\\n\\nThank you for getting in touch. Knee...</td>\n",
       "      <td>Hi, thank you for providing the brief history ...</td>\n",
       "    </tr>\n",
       "  </tbody>\n",
       "</table>\n",
       "</div>"
      ],
      "text/plain": [
       "                                                  input  \\\n",
       "4017  Hello doctor,I have pain in the right knee for...   \n",
       "5569  Hello doctor,I used to play sports. Now after ...   \n",
       "406   Hi doctor,I started with the gym last week. I ...   \n",
       "3727  Hello doctor,I am 21 years old, medically fit....   \n",
       "3293  Hello doctor,I have knee pain for the past one...   \n",
       "\n",
       "                                         answer_icliniq  \\\n",
       "4017  Hello, Welcome to Chat Doctor forum. Your X-ra...   \n",
       "5569  Hello, Welcome to Chat Doctor forum. I read yo...   \n",
       "406   Hi. It is common to have pain when you start a...   \n",
       "3727  Hi. I have thoroughly gone through your case a...   \n",
       "3293  Hello, Welcome to Chat Doctor forum. Pain may ...   \n",
       "\n",
       "                                         answer_chatgpt  \\\n",
       "4017  Hello,\\n\\nBased on your description, it seems ...   \n",
       "5569  Hello! It's important to rest and allow your m...   \n",
       "406   I'm sorry to hear about your pain. Knee pain i...   \n",
       "3727  Hi! Based on the symptoms you have described, ...   \n",
       "3293  Hello,\\n\\nThank you for getting in touch. Knee...   \n",
       "\n",
       "                                      answer_chatdoctor  \n",
       "4017  Hi, Welcome to Chat Doctor.com I am Chat Docto...  \n",
       "5569  1) First - rule out any injury to your knee jo...  \n",
       "406   1) Pain in knee after exercise - this is due t...  \n",
       "3727  Hi, Welcome to Chat Doctor.com I am Chat Docto...  \n",
       "3293  Hi, thank you for providing the brief history ...  "
      ]
     },
     "execution_count": 40,
     "metadata": {},
     "output_type": "execute_result"
    }
   ],
   "source": [
    "matching_questions.head()"
   ]
  },
  {
   "cell_type": "markdown",
   "id": "18081abd-3c09-4966-bee1-863bfa069e55",
   "metadata": {},
   "source": [
    "## Prepare the Answer Retrieval"
   ]
  },
  {
   "cell_type": "code",
   "execution_count": 28,
   "id": "0de11e7f-883d-4fb7-853d-1cadfddd5edf",
   "metadata": {},
   "outputs": [
    {
     "data": {
      "text/plain": [
       "True"
      ]
     },
     "execution_count": 28,
     "metadata": {},
     "output_type": "execute_result"
    }
   ],
   "source": [
    "from groq import Groq\n",
    "# Load environment variables\n",
    "from dotenv import load_dotenv\n",
    "load_dotenv()"
   ]
  },
  {
   "cell_type": "code",
   "execution_count": 21,
   "id": "3640ded2-1073-44a7-930b-fa492d15999b",
   "metadata": {},
   "outputs": [
    {
     "data": {
      "text/plain": [
       "'groq'"
      ]
     },
     "execution_count": 21,
     "metadata": {},
     "output_type": "execute_result"
    }
   ],
   "source": [
    "# Setup the OpenAI client to use either Groq, OpenAI.com, or Ollama API\n",
    "import os\n",
    "load_dotenv(override=True)\n",
    "API_HOST = os.getenv(\"API_HOST\")\n",
    "API_HOST"
   ]
  }
 ],
 "metadata": {
  "kernelspec": {
   "display_name": "Python 3",
   "language": "python",
   "name": "python3"
  },
  "language_info": {
   "codemirror_mode": {
    "name": "ipython",
    "version": 3
   },
   "file_extension": ".py",
   "mimetype": "text/x-python",
   "name": "python",
   "nbconvert_exporter": "python",
   "pygments_lexer": "ipython3",
   "version": "3.12.4"
  }
 },
 "nbformat": 4,
 "nbformat_minor": 5
}
