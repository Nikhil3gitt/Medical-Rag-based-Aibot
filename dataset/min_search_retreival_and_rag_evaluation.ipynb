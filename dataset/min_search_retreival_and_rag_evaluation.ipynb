{
 "cells": [
  {
   "cell_type": "code",
   "execution_count": 131,
   "metadata": {},
   "outputs": [],
   "source": [
    "# Import necessary libraries\n",
    "import json\n",
    "import pandas as pd\n",
    "import openai\n",
    "import sys\n",
    "# Append the parent folder to the system path\n",
    "sys.path.append(os.path.abspath(os.path.join(os.getcwd(), os.pardir)))\n",
    "# Now you can import config.py\n",
    "import config\n",
    "from groq import Groq\n",
    "from dotenv import load_dotenv\n",
    "import os\n",
    "from sklearn.feature_extraction.text import CountVectorizer\n",
    "from tqdm.auto import tqdm"
   ]
  },
  {
   "cell_type": "code",
   "execution_count": 100,
   "metadata": {},
   "outputs": [
    {
     "data": {
      "text/plain": [
       "True"
      ]
     },
     "execution_count": 100,
     "metadata": {},
     "output_type": "execute_result"
    }
   ],
   "source": [
    "# Load environment variables\n",
    "load_dotenv()"
   ]
  },
  {
   "cell_type": "code",
   "execution_count": 102,
   "metadata": {},
   "outputs": [
    {
     "data": {
      "text/plain": [
       "'d:\\\\Projects\\\\datatalks-final-project\\\\notebooks'"
      ]
     },
     "execution_count": 102,
     "metadata": {},
     "output_type": "execute_result"
    }
   ],
   "source": [
    "# Get the current working directory (optional step)\n",
    "os.getcwd()"
   ]
  },
  {
   "cell_type": "code",
   "execution_count": 103,
   "metadata": {},
   "outputs": [
    {
     "data": {
      "text/plain": [
       "'groq'"
      ]
     },
     "execution_count": 103,
     "metadata": {},
     "output_type": "execute_result"
    }
   ],
   "source": [
    "# Setup the OpenAI client to use either Groq, OpenAI.com, or Ollama API\n",
    "load_dotenv(override=True)\n",
    "API_HOST = os.getenv(\"API_HOST\")\n",
    "API_HOST"
   ]
  },
  {
   "cell_type": "code",
   "execution_count": 104,
   "metadata": {},
   "outputs": [],
   "source": [
    "if API_HOST == \"groq\":\n",
    "    client = client = Groq(\n",
    "    api_key=os.environ.get(\"GROQ_API_KEY\"),\n",
    ")\n",
    "    MODEL_NAME = os.getenv(\"GROQ_MODEL\")\n",
    "\n",
    "elif API_HOST == \"ollama\":\n",
    "    client = openai.OpenAI(\n",
    "        base_url=os.getenv(\"OLLAMA_ENDPOINT\"),\n",
    "        api_key=\"nokeyneeded\",\n",
    "    )\n",
    "    MODEL_NAME = os.getenv(\"OLLAMA_MODEL\")\n",
    "\n",
    "elif API_HOST == \"openai\":\n",
    "    client = openai.OpenAI(api_key=os.getenv(\"OPENAI_API_KEY\"))\n",
    "    MODEL_NAME = os.getenv(\"OPENAI_MODEL\")\n",
    "else:\n",
    "    print(\"No LLM Selected\")"
   ]
  },
  {
   "cell_type": "code",
   "execution_count": 105,
   "metadata": {},
   "outputs": [
    {
     "data": {
      "text/plain": [
       "<groq.Groq at 0x22abeb35a30>"
      ]
     },
     "execution_count": 105,
     "metadata": {},
     "output_type": "execute_result"
    }
   ],
   "source": [
    "client"
   ]
  },
  {
   "cell_type": "code",
   "execution_count": 106,
   "metadata": {},
   "outputs": [
    {
     "data": {
      "text/plain": [
       "'llama3-8b-8192'"
      ]
     },
     "execution_count": 106,
     "metadata": {},
     "output_type": "execute_result"
    }
   ],
   "source": [
    "MODEL_NAME"
   ]
  },
  {
   "cell_type": "code",
   "execution_count": 107,
   "metadata": {},
   "outputs": [],
   "source": [
    "with open(input_data_folder + 'main_faq_database.json', 'rt') as f_in:\n",
    "    data = json.load(f_in)"
   ]
  },
  {
   "cell_type": "code",
   "execution_count": 108,
   "metadata": {},
   "outputs": [],
   "source": [
    "documents = []\n",
    "for dish in data['dishes']:\n",
    "    dish_name = dish['dish name']\n",
    "    for doc in dish['documents']:\n",
    "        doc['dish_name'] = dish_name  # Add dish_name to each document\n",
    "        documents.append(doc)"
   ]
  },
  {
   "cell_type": "code",
   "execution_count": 109,
   "metadata": {},
   "outputs": [
    {
     "data": {
      "text/plain": [
       "[{'id': '142_2',\n",
       "  'question': 'How many calories does it have?',\n",
       "  'section': 'calories',\n",
       "  'text': 'The almond fudge banana cake has 224.8 calories.',\n",
       "  'dish_name': 'almond fudge banana cake'},\n",
       " {'id': '142_3',\n",
       "  'question': 'How much total fat does it contain?',\n",
       "  'section': 'nutritional',\n",
       "  'text': 'The almond fudge banana cake has 14 grams of total fat (PDV).',\n",
       "  'dish_name': 'almond fudge banana cake'}]"
      ]
     },
     "execution_count": 109,
     "metadata": {},
     "output_type": "execute_result"
    }
   ],
   "source": [
    "documents[1:3]"
   ]
  },
  {
   "cell_type": "markdown",
   "metadata": {},
   "source": [
    "Retreival evaluation"
   ]
  },
  {
   "cell_type": "code",
   "execution_count": 110,
   "metadata": {},
   "outputs": [
    {
     "data": {
      "text/plain": [
       "<minsearch.Index at 0x22ac050b080>"
      ]
     },
     "execution_count": 110,
     "metadata": {},
     "output_type": "execute_result"
    }
   ],
   "source": [
    "import minsearch\n",
    "\n",
    "index = minsearch.Index(\n",
    "    text_fields = ['id', 'question','section','text','dish_name'],\n",
    "    keyword_fields=['dish_name']\n",
    ")\n",
    "\n",
    "index.fit(documents)"
   ]
  },
  {
   "cell_type": "code",
   "execution_count": 111,
   "metadata": {},
   "outputs": [],
   "source": [
    "#import ground truth dataset\n",
    "import pandas as pd\n",
    "ground_df = pd.read_csv(input_data_folder +'gold_standard_data/ground-truth-data.csv')"
   ]
  },
  {
   "cell_type": "code",
   "execution_count": 112,
   "metadata": {},
   "outputs": [],
   "source": [
    "ground_truth = ground_df.to_dict(orient='records')"
   ]
  },
  {
   "cell_type": "code",
   "execution_count": 16,
   "metadata": {},
   "outputs": [
    {
     "data": {
      "text/plain": [
       "{'id': '142_2',\n",
       " 'question': 'How many calories does it have?',\n",
       " 'section': 'calories',\n",
       " 'text': 'The almond fudge banana cake has 224.8 calories.',\n",
       " 'dish_name': 'almond fudge banana cake'}"
      ]
     },
     "execution_count": 16,
     "metadata": {},
     "output_type": "execute_result"
    }
   ],
   "source": [
    "documents[1]"
   ]
  },
  {
   "cell_type": "code",
   "execution_count": 17,
   "metadata": {},
   "outputs": [],
   "source": [
    "def hit_rate(relevance_total):\n",
    "    cnt = 0\n",
    "\n",
    "    for line in relevance_total:\n",
    "        if True in line:\n",
    "            cnt = cnt + 1\n",
    "\n",
    "    return cnt / len(relevance_total)\n"
   ]
  },
  {
   "cell_type": "code",
   "execution_count": 18,
   "metadata": {},
   "outputs": [],
   "source": [
    "def mrr(relevance_total):\n",
    "    total_score = 0.0\n",
    "\n",
    "    for line in relevance_total:\n",
    "        for rank in range(len(line)):\n",
    "            if line[rank] == True:\n",
    "                total_score = total_score + 1 / (rank + 1)\n",
    "\n",
    "    return total_score / len(relevance_total)"
   ]
  },
  {
   "cell_type": "code",
   "execution_count": 19,
   "metadata": {},
   "outputs": [
    {
     "data": {
      "text/plain": [
       "{'id': '142_2',\n",
       " 'question': 'How many calories does it have?',\n",
       " 'section': 'calories',\n",
       " 'text': 'The almond fudge banana cake has 224.8 calories.',\n",
       " 'dish_name': 'almond fudge banana cake'}"
      ]
     },
     "execution_count": 19,
     "metadata": {},
     "output_type": "execute_result"
    }
   ],
   "source": [
    "documents[1]"
   ]
  },
  {
   "cell_type": "code",
   "execution_count": 20,
   "metadata": {},
   "outputs": [],
   "source": [
    "def minsearch_search(query):\n",
    "    boost = {\n",
    "    }\n",
    "\n",
    "    results = index.search(\n",
    "        query=query,\n",
    "        filter_dict={'question': query},\n",
    "        boost_dict=boost,\n",
    "        num_results=10\n",
    "    )\n",
    "\n",
    "    return results"
   ]
  },
  {
   "cell_type": "code",
   "execution_count": 21,
   "metadata": {},
   "outputs": [],
   "source": [
    "def minsearch_search(query):\n",
    "    boost = {\n",
    " 'question': 2.5,       # High priority: users are searching questions\n",
    "    'dish_name': 1.7,      # Important for matching specific dishes\n",
    "    'section': 1.2,        # Moderate boost: helps in filtering by category\n",
    "    'text': 1.3        # Slight boost: could help match answer content} \n",
    "    }\n",
    "\n",
    "    results = index.search(\n",
    "        query=query,\n",
    "        filter_dict={'question': query},\n",
    "        boost_dict=boost,\n",
    "        num_results=10\n",
    "    )\n",
    "\n",
    "    return results"
   ]
  },
  {
   "cell_type": "code",
   "execution_count": 22,
   "metadata": {},
   "outputs": [
    {
     "data": {
      "text/html": [
       "<div>\n",
       "<style scoped>\n",
       "    .dataframe tbody tr th:only-of-type {\n",
       "        vertical-align: middle;\n",
       "    }\n",
       "\n",
       "    .dataframe tbody tr th {\n",
       "        vertical-align: top;\n",
       "    }\n",
       "\n",
       "    .dataframe thead th {\n",
       "        text-align: right;\n",
       "    }\n",
       "</style>\n",
       "<table border=\"1\" class=\"dataframe\">\n",
       "  <thead>\n",
       "    <tr style=\"text-align: right;\">\n",
       "      <th></th>\n",
       "      <th>question</th>\n",
       "      <th>id</th>\n",
       "    </tr>\n",
       "  </thead>\n",
       "  <tbody>\n",
       "    <tr>\n",
       "      <th>0</th>\n",
       "      <td>Is almond fudge banana cake made with real ban...</td>\n",
       "      <td>142_1</td>\n",
       "    </tr>\n",
       "    <tr>\n",
       "      <th>1</th>\n",
       "      <td>Does almond fudge banana cake contain dairy?</td>\n",
       "      <td>142_1</td>\n",
       "    </tr>\n",
       "    <tr>\n",
       "      <th>2</th>\n",
       "      <td>Can I be sure there are no artificial flavors ...</td>\n",
       "      <td>142_1</td>\n",
       "    </tr>\n",
       "    <tr>\n",
       "      <th>3</th>\n",
       "      <td>Are the ingredients in almond fudge banana cak...</td>\n",
       "      <td>142_1</td>\n",
       "    </tr>\n",
       "    <tr>\n",
       "      <th>4</th>\n",
       "      <td>May I know the types of flour and sugar used i...</td>\n",
       "      <td>142_1</td>\n",
       "    </tr>\n",
       "  </tbody>\n",
       "</table>\n",
       "</div>"
      ],
      "text/plain": [
       "                                            question     id\n",
       "0  Is almond fudge banana cake made with real ban...  142_1\n",
       "1       Does almond fudge banana cake contain dairy?  142_1\n",
       "2  Can I be sure there are no artificial flavors ...  142_1\n",
       "3  Are the ingredients in almond fudge banana cak...  142_1\n",
       "4  May I know the types of flour and sugar used i...  142_1"
      ]
     },
     "execution_count": 22,
     "metadata": {},
     "output_type": "execute_result"
    }
   ],
   "source": [
    "ground_df.head()"
   ]
  },
  {
   "cell_type": "code",
   "execution_count": 23,
   "metadata": {},
   "outputs": [],
   "source": [
    "ground_truth = ground_df.to_dict(orient='records')\n"
   ]
  },
  {
   "cell_type": "code",
   "execution_count": 24,
   "metadata": {},
   "outputs": [
    {
     "data": {
      "text/plain": [
       "{'question': 'Is almond fudge banana cake made with real bananas?',\n",
       " 'id': '142_1'}"
      ]
     },
     "execution_count": 24,
     "metadata": {},
     "output_type": "execute_result"
    }
   ],
   "source": [
    "ground_truth[0]\n"
   ]
  },
  {
   "cell_type": "code",
   "execution_count": 25,
   "metadata": {},
   "outputs": [],
   "source": [
    "def evaluate(ground_truth, search_function):\n",
    "    relevance_total = []\n",
    "\n",
    "    for q in tqdm(ground_truth):\n",
    "        doc_id = q['id']\n",
    "        results = search_function(q)\n",
    "        relevance = [d['id'] == doc_id for d in results]\n",
    "        relevance_total.append(relevance)\n",
    "\n",
    "    return {\n",
    "        'hit_rate': hit_rate(relevance_total),\n",
    "        'mrr': mrr(relevance_total),\n",
    "    }"
   ]
  },
  {
   "cell_type": "code",
   "execution_count": 26,
   "metadata": {},
   "outputs": [],
   "source": [
    "from tqdm.auto import tqdm "
   ]
  },
  {
   "cell_type": "code",
   "execution_count": 27,
   "metadata": {},
   "outputs": [
    {
     "data": {
      "application/vnd.jupyter.widget-view+json": {
       "model_id": "ca887fac56174e9dadcea7daa023044b",
       "version_major": 2,
       "version_minor": 0
      },
      "text/plain": [
       "  0%|          | 0/16527 [00:00<?, ?it/s]"
      ]
     },
     "metadata": {},
     "output_type": "display_data"
    },
    {
     "data": {
      "text/plain": [
       "{'hit_rate': 0.5878259817268712, 'mrr': 0.34479029505350023}"
      ]
     },
     "execution_count": 27,
     "metadata": {},
     "output_type": "execute_result"
    }
   ],
   "source": [
    "evaluate(ground_truth, lambda q: minsearch_search(q['question']))"
   ]
  },
  {
   "cell_type": "code",
   "execution_count": 28,
   "metadata": {},
   "outputs": [
    {
     "data": {
      "text/plain": [
       "<groq.Groq at 0x22abca73c20>"
      ]
     },
     "execution_count": 28,
     "metadata": {},
     "output_type": "execute_result"
    }
   ],
   "source": [
    "client"
   ]
  },
  {
   "cell_type": "code",
   "execution_count": 29,
   "metadata": {},
   "outputs": [
    {
     "data": {
      "application/vnd.jupyter.widget-view+json": {
       "model_id": "1a60c46908224ca8af28fbf1501a8b6a",
       "version_major": 2,
       "version_minor": 0
      },
      "text/plain": [
       "  0%|          | 0/16527 [00:00<?, ?it/s]"
      ]
     },
     "metadata": {},
     "output_type": "display_data"
    },
    {
     "name": "stdout",
     "output_type": "stream",
     "text": [
      "  Ground Truth ID  \\\n",
      "0           142_1   \n",
      "1           142_1   \n",
      "2           142_1   \n",
      "3           142_1   \n",
      "4           142_1   \n",
      "\n",
      "                                                        Ground Truth Question  \\\n",
      "0                         Is almond fudge banana cake made with real bananas?   \n",
      "1                                Does almond fudge banana cake contain dairy?   \n",
      "2  Can I be sure there are no artificial flavors in almond fudge banana cake?   \n",
      "3         Are the ingredients in almond fudge banana cake free from liqueurs?   \n",
      "4   May I know the types of flour and sugar used in almond fudge banana cake?   \n",
      "\n",
      "  Matched Document ID                          Matched Question  \n",
      "0              142_11  What tags are associated with this dish?  \n",
      "1               142_3       How much total fat does it contain?  \n",
      "2               142_5          How much sodium is in this dish?  \n",
      "3               142_1                 What are the ingredients?  \n",
      "4               142_4                What is the sugar content?  \n"
     ]
    }
   ],
   "source": [
    "import pandas as pd\n",
    "\n",
    "def visualize_search_results(ground_truth, search_function):\n",
    "    # Create an empty list to store the results\n",
    "    search_results = []\n",
    "\n",
    "    # Iterate over each query in the ground truth dataset\n",
    "    for q in tqdm(ground_truth):\n",
    "        doc_id = q['id']\n",
    "        ground_truth_question = q['question']\n",
    "        \n",
    "        # Perform the search using the provided function\n",
    "        results = search_function(q['question'])\n",
    "        \n",
    "        # Collect the top result from the search\n",
    "        if results:\n",
    "            matched_question = results[0]['question']\n",
    "            matched_doc_id = results[0]['id']\n",
    "        else:\n",
    "            matched_question = None\n",
    "            matched_doc_id = None\n",
    "\n",
    "        # Append the comparison of the ground truth with the top matched result\n",
    "        search_results.append({\n",
    "            'Ground Truth ID': doc_id,\n",
    "            'Ground Truth Question': ground_truth_question,\n",
    "            'Matched Document ID': matched_doc_id,\n",
    "            'Matched Question': matched_question\n",
    "        })\n",
    "\n",
    "    # Convert the results into a Pandas DataFrame for visualization\n",
    "    results_df = pd.DataFrame(search_results)\n",
    "    \n",
    "    # Display the DataFrame\n",
    "    pd.set_option('display.max_colwidth', None)\n",
    "    return results_df\n",
    "\n",
    "# Visualize the search results\n",
    "results_df = visualize_search_results(ground_truth, lambda q: minsearch_search(q))\n",
    "print(results_df.head())\n",
    "\n",
    "# Optionally, you can also save this as an Excel or CSV file for further inspection\n",
    "results_df.to_csv('search_results_comparison.csv', index=False)\n"
   ]
  },
  {
   "cell_type": "code",
   "execution_count": 39,
   "metadata": {},
   "outputs": [
    {
     "data": {
      "text/html": [
       "<div>\n",
       "<style scoped>\n",
       "    .dataframe tbody tr th:only-of-type {\n",
       "        vertical-align: middle;\n",
       "    }\n",
       "\n",
       "    .dataframe tbody tr th {\n",
       "        vertical-align: top;\n",
       "    }\n",
       "\n",
       "    .dataframe thead th {\n",
       "        text-align: right;\n",
       "    }\n",
       "</style>\n",
       "<table border=\"1\" class=\"dataframe\">\n",
       "  <thead>\n",
       "    <tr style=\"text-align: right;\">\n",
       "      <th></th>\n",
       "      <th>question</th>\n",
       "      <th>id</th>\n",
       "    </tr>\n",
       "  </thead>\n",
       "  <tbody>\n",
       "    <tr>\n",
       "      <th>0</th>\n",
       "      <td>Is almond fudge banana cake made with real bananas?</td>\n",
       "      <td>142_1</td>\n",
       "    </tr>\n",
       "    <tr>\n",
       "      <th>1</th>\n",
       "      <td>Does almond fudge banana cake contain dairy?</td>\n",
       "      <td>142_1</td>\n",
       "    </tr>\n",
       "    <tr>\n",
       "      <th>2</th>\n",
       "      <td>Can I be sure there are no artificial flavors in almond fudge banana cake?</td>\n",
       "      <td>142_1</td>\n",
       "    </tr>\n",
       "    <tr>\n",
       "      <th>3</th>\n",
       "      <td>Are the ingredients in almond fudge banana cake free from liqueurs?</td>\n",
       "      <td>142_1</td>\n",
       "    </tr>\n",
       "    <tr>\n",
       "      <th>4</th>\n",
       "      <td>May I know the types of flour and sugar used in almond fudge banana cake?</td>\n",
       "      <td>142_1</td>\n",
       "    </tr>\n",
       "    <tr>\n",
       "      <th>5</th>\n",
       "      <td>How many calories does the Almond Fudge Banana Cake have?</td>\n",
       "      <td>142_2</td>\n",
       "    </tr>\n",
       "    <tr>\n",
       "      <th>6</th>\n",
       "      <td>Can I get nutrition facts for the Almond Fudge Banana Cake?</td>\n",
       "      <td>142_2</td>\n",
       "    </tr>\n",
       "    <tr>\n",
       "      <th>7</th>\n",
       "      <td>What's the calorie count for the Almond Fudge Banana Cake?</td>\n",
       "      <td>142_2</td>\n",
       "    </tr>\n",
       "    <tr>\n",
       "      <th>8</th>\n",
       "      <td>How many calories is the Almond Fudge Banana Cake?</td>\n",
       "      <td>142_2</td>\n",
       "    </tr>\n",
       "    <tr>\n",
       "      <th>9</th>\n",
       "      <td>What's the calorie content of the Almond Fudge Banana Cake?</td>\n",
       "      <td>142_2</td>\n",
       "    </tr>\n",
       "    <tr>\n",
       "      <th>10</th>\n",
       "      <td>How much fat does the Almond Fudge Banana Cake have?</td>\n",
       "      <td>142_3</td>\n",
       "    </tr>\n",
       "    <tr>\n",
       "      <th>11</th>\n",
       "      <td>What is the total fat content of the Almond Fudge Banana Cake?</td>\n",
       "      <td>142_3</td>\n",
       "    </tr>\n",
       "    <tr>\n",
       "      <th>12</th>\n",
       "      <td>Is the Almond Fudge Banana Cake high in fat?</td>\n",
       "      <td>142_3</td>\n",
       "    </tr>\n",
       "    <tr>\n",
       "      <th>13</th>\n",
       "      <td>Can I get the calorie breakdown of the Almond Fudge Banana Cake?</td>\n",
       "      <td>142_3</td>\n",
       "    </tr>\n",
       "    <tr>\n",
       "      <th>14</th>\n",
       "      <td>How many grams of fat are in the Almond Fudge Banana Cake?</td>\n",
       "      <td>142_3</td>\n",
       "    </tr>\n",
       "    <tr>\n",
       "      <th>15</th>\n",
       "      <td>How much sweetness comes from the almond fudge banana cake?</td>\n",
       "      <td>142_4</td>\n",
       "    </tr>\n",
       "    <tr>\n",
       "      <th>16</th>\n",
       "      <td>What's the amount of sugar in the almond fudge banana cake?</td>\n",
       "      <td>142_4</td>\n",
       "    </tr>\n",
       "    <tr>\n",
       "      <th>17</th>\n",
       "      <td>Is the almond fudge banana cake high in sugar?</td>\n",
       "      <td>142_4</td>\n",
       "    </tr>\n",
       "    <tr>\n",
       "      <th>18</th>\n",
       "      <td>Can I know the sugar level of the almond fudge banana cake?</td>\n",
       "      <td>142_4</td>\n",
       "    </tr>\n",
       "    <tr>\n",
       "      <th>19</th>\n",
       "      <td>How much sugar is there in a standard serving of almond fudge banana cake?</td>\n",
       "      <td>142_4</td>\n",
       "    </tr>\n",
       "  </tbody>\n",
       "</table>\n",
       "</div>"
      ],
      "text/plain": [
       "                                                                      question  \\\n",
       "0                          Is almond fudge banana cake made with real bananas?   \n",
       "1                                 Does almond fudge banana cake contain dairy?   \n",
       "2   Can I be sure there are no artificial flavors in almond fudge banana cake?   \n",
       "3          Are the ingredients in almond fudge banana cake free from liqueurs?   \n",
       "4    May I know the types of flour and sugar used in almond fudge banana cake?   \n",
       "5                    How many calories does the Almond Fudge Banana Cake have?   \n",
       "6                  Can I get nutrition facts for the Almond Fudge Banana Cake?   \n",
       "7                   What's the calorie count for the Almond Fudge Banana Cake?   \n",
       "8                           How many calories is the Almond Fudge Banana Cake?   \n",
       "9                  What's the calorie content of the Almond Fudge Banana Cake?   \n",
       "10                        How much fat does the Almond Fudge Banana Cake have?   \n",
       "11              What is the total fat content of the Almond Fudge Banana Cake?   \n",
       "12                                Is the Almond Fudge Banana Cake high in fat?   \n",
       "13            Can I get the calorie breakdown of the Almond Fudge Banana Cake?   \n",
       "14                  How many grams of fat are in the Almond Fudge Banana Cake?   \n",
       "15                 How much sweetness comes from the almond fudge banana cake?   \n",
       "16                 What's the amount of sugar in the almond fudge banana cake?   \n",
       "17                              Is the almond fudge banana cake high in sugar?   \n",
       "18                 Can I know the sugar level of the almond fudge banana cake?   \n",
       "19  How much sugar is there in a standard serving of almond fudge banana cake?   \n",
       "\n",
       "       id  \n",
       "0   142_1  \n",
       "1   142_1  \n",
       "2   142_1  \n",
       "3   142_1  \n",
       "4   142_1  \n",
       "5   142_2  \n",
       "6   142_2  \n",
       "7   142_2  \n",
       "8   142_2  \n",
       "9   142_2  \n",
       "10  142_3  \n",
       "11  142_3  \n",
       "12  142_3  \n",
       "13  142_3  \n",
       "14  142_3  \n",
       "15  142_4  \n",
       "16  142_4  \n",
       "17  142_4  \n",
       "18  142_4  \n",
       "19  142_4  "
      ]
     },
     "execution_count": 39,
     "metadata": {},
     "output_type": "execute_result"
    }
   ],
   "source": [
    "ground_df.head(20)"
   ]
  },
  {
   "cell_type": "code",
   "execution_count": 40,
   "metadata": {},
   "outputs": [
    {
     "data": {
      "text/plain": [
       "[{'id': '142_2',\n",
       "  'question': 'How many calories does it have?',\n",
       "  'section': 'calories',\n",
       "  'text': 'The almond fudge banana cake has 224.8 calories.',\n",
       "  'dish_name': 'almond fudge banana cake'},\n",
       " {'id': '142_3',\n",
       "  'question': 'How much total fat does it contain?',\n",
       "  'section': 'nutritional',\n",
       "  'text': 'The almond fudge banana cake has 14 grams of total fat (PDV).',\n",
       "  'dish_name': 'almond fudge banana cake'},\n",
       " {'id': '142_4',\n",
       "  'question': 'What is the sugar content?',\n",
       "  'section': 'nutritional',\n",
       "  'text': 'The almond fudge banana cake has 87 grams of sugar (PDV).',\n",
       "  'dish_name': 'almond fudge banana cake'},\n",
       " {'id': '142_5',\n",
       "  'question': 'How much sodium is in this dish?',\n",
       "  'section': 'nutritional',\n",
       "  'text': 'The almond fudge banana cake has 10 grams of sodium (PDV).',\n",
       "  'dish_name': 'almond fudge banana cake'},\n",
       " {'id': '142_6',\n",
       "  'question': 'What is the protein content?',\n",
       "  'section': 'nutritional',\n",
       "  'text': 'The almond fudge banana cake has 7 grams of protein (PDV).',\n",
       "  'dish_name': 'almond fudge banana cake'},\n",
       " {'id': '142_7',\n",
       "  'question': 'How much saturated fat is present?',\n",
       "  'section': 'nutritional',\n",
       "  'text': 'The almond fudge banana cake has 9 grams of saturated fat (PDV).',\n",
       "  'dish_name': 'almond fudge banana cake'},\n",
       " {'id': '142_8',\n",
       "  'question': 'What are the carbohydrate levels?',\n",
       "  'section': 'nutritional',\n",
       "  'text': 'The almond fudge banana cake has 11 grams of carbohydrates (PDV).',\n",
       "  'dish_name': 'almond fudge banana cake'},\n",
       " {'id': '142_9',\n",
       "  'question': 'How long does it take to prepare?',\n",
       "  'section': 'preparation',\n",
       "  'text': 'The almond fudge banana cake takes 110 minutes to prepare.',\n",
       "  'dish_name': 'almond fudge banana cake'},\n",
       " {'id': '142_10',\n",
       "  'question': 'What are the steps to prepare this dish?',\n",
       "  'section': 'steps',\n",
       "  'text': \"The almond fudge banana cake contains ['mash bananas and set aside', 'beat sugar and margarine until light and fluffy', 'beat in eggs , liqueur and vanilla', 'combine dry ingredients', 'stir in almonds', 'add to sugar mixture alternately with bananas', 'beat well', 'pour batter into greased 10-inch bundt pan', 'bake in preheated 350f oven 45 to 50 minutes or until toothpick inserted in center comes out almost clean and cake pulls away from side of pan', 'cool 10 minutes', 'remove cake from pan to wire rack to cool completely', 'drizzle glaze over top and down side of cake', 'make 16-20 servings']\",\n",
       "  'dish_name': 'almond fudge banana cake'},\n",
       " {'id': '142_11',\n",
       "  'question': 'What tags are associated with this dish?',\n",
       "  'section': 'tags',\n",
       "  'text': \"The almond fudge banana cake contains ['weeknight', 'time-to-make', 'course', 'preparation', 'for-large-groups', 'desserts', 'oven', 'cakes', 'dietary', 'equipment', 'number-of-servings', '4-hours-or-less']\",\n",
       "  'dish_name': 'almond fudge banana cake'},\n",
       " {'id': '142_12',\n",
       "  'question': 'What is the rating of this dish?',\n",
       "  'section': 'rating',\n",
       "  'text': 'The almond fudge banana cake has a rating of 4.',\n",
       "  'dish_name': 'almond fudge banana cake'},\n",
       " {'id': '142_13',\n",
       "  'question': 'Can you provide a review?',\n",
       "  'section': 'review',\n",
       "  'text': 'Review for almond fudge banana cake: Came out great for a chocolate Easter cake. I made an almond cream cheese frosting instead of a chocolate glaze to make it more Spring-like. Very moist and the banana is definately the strongest flavor coming from the cake. Will definately make again.',\n",
       "  'dish_name': 'almond fudge banana cake'},\n",
       " {'id': '142_14',\n",
       "  'question': 'What category does this dish fall under?',\n",
       "  'section': 'category',\n",
       "  'text': 'The almond fudge banana cake contains tasty',\n",
       "  'dish_name': 'almond fudge banana cake'},\n",
       " {'id': '142_15',\n",
       "  'question': 'What is the calorie status of this dish?',\n",
       "  'section': 'calorie_status',\n",
       "  'text': 'The calorie status of almond fudge banana cake is Low Calory.',\n",
       "  'dish_name': 'almond fudge banana cake'},\n",
       " {'id': '142_16',\n",
       "  'question': 'What is the price of this dish?',\n",
       "  'section': 'price',\n",
       "  'text': 'The price of almond fudge banana cake is $24.',\n",
       "  'dish_name': 'almond fudge banana cake'},\n",
       " {'id': '520_1',\n",
       "  'question': 'What are the ingredients?',\n",
       "  'section': 'ingredients',\n",
       "  'text': \"The apple pie cake contains the following ingredients: ['sugar', 'egg', 'salt', 'butter', 'flour', 'baking powder', 'cinnamon', 'nutmeg', 'vanilla', 'baking apples', 'pecans', 'golden raisin']\",\n",
       "  'dish_name': 'apple pie cake'},\n",
       " {'id': '520_2',\n",
       "  'question': 'How many calories does it have?',\n",
       "  'section': 'calories',\n",
       "  'text': 'The apple pie cake has 359.1 calories.',\n",
       "  'dish_name': 'apple pie cake'},\n",
       " {'id': '520_3',\n",
       "  'question': 'How much total fat does it contain?',\n",
       "  'section': 'nutritional',\n",
       "  'text': 'The apple pie cake has 26 grams of total fat (PDV).',\n",
       "  'dish_name': 'apple pie cake'},\n",
       " {'id': '520_4',\n",
       "  'question': 'What is the sugar content?',\n",
       "  'section': 'nutritional',\n",
       "  'text': 'The apple pie cake has 136 grams of sugar (PDV).',\n",
       "  'dish_name': 'apple pie cake'}]"
      ]
     },
     "execution_count": 40,
     "metadata": {},
     "output_type": "execute_result"
    }
   ],
   "source": [
    "documents[1:20]"
   ]
  },
  {
   "cell_type": "markdown",
   "metadata": {},
   "source": [
    "## The RAG flow\n"
   ]
  },
  {
   "cell_type": "code",
   "execution_count": 77,
   "metadata": {},
   "outputs": [],
   "source": [
    "def build_prompt(query, search_results):\n",
    "    prompt_template = \"\"\"\n",
    "You're an AI assistant helping with menu queries. Answer the QUESTION based on the CONTEXT provided.\n",
    "\n",
    "QUESTION: {question}\n",
    "\n",
    "CONTEXT: \n",
    "{context}\n",
    "\"\"\".strip()\n",
    "\n",
    "    context = \"\"\n",
    "    \n",
    "    for doc in search_results:\n",
    "        context += f\"Section: {doc['section']}\\nQuestion: {doc['question']}\\nAnswer: {doc['text']}\\n\\n\"\n",
    "    \n",
    "    prompt = prompt_template.format(question=query, context=context).strip()\n",
    "    return prompt\n"
   ]
  },
  {
   "cell_type": "code",
   "execution_count": 114,
   "metadata": {},
   "outputs": [
    {
     "data": {
      "text/plain": [
       "<groq.Groq at 0x22abeb35a30>"
      ]
     },
     "execution_count": 114,
     "metadata": {},
     "output_type": "execute_result"
    }
   ],
   "source": [
    "client"
   ]
  },
  {
   "cell_type": "code",
   "execution_count": 115,
   "metadata": {},
   "outputs": [],
   "source": [
    "\n",
    "def llm(prompt):\n",
    "    response = client.chat.completions.create(\n",
    "        model= MODEL_NAME,\n",
    "        messages=[{\"role\": \"user\", \"content\": prompt}]\n",
    "    )\n",
    "    \n",
    "    return response.choices[0].message.content"
   ]
  },
  {
   "cell_type": "code",
   "execution_count": 116,
   "metadata": {},
   "outputs": [],
   "source": [
    "import minsearch\n",
    "\n",
    "index = minsearch.Index(\n",
    "    text_fields = ['id', 'question','section','text','dish_name'],\n",
    "    keyword_fields=['dish_name']\n",
    "    #keyword_fields=['id']\n",
    ")\n"
   ]
  },
  {
   "cell_type": "code",
   "execution_count": 117,
   "metadata": {},
   "outputs": [
    {
     "data": {
      "text/plain": [
       "3584"
      ]
     },
     "execution_count": 117,
     "metadata": {},
     "output_type": "execute_result"
    }
   ],
   "source": [
    "len(documents)"
   ]
  },
  {
   "cell_type": "code",
   "execution_count": 118,
   "metadata": {},
   "outputs": [
    {
     "data": {
      "text/plain": [
       "<minsearch.Index at 0x22ac0b1af60>"
      ]
     },
     "execution_count": 118,
     "metadata": {},
     "output_type": "execute_result"
    }
   ],
   "source": [
    "index.fit(documents)"
   ]
  },
  {
   "cell_type": "code",
   "execution_count": 119,
   "metadata": {},
   "outputs": [],
   "source": [
    "def minsearch(question):\n",
    "    return index.search(question)"
   ]
  },
  {
   "cell_type": "code",
   "execution_count": 120,
   "metadata": {},
   "outputs": [],
   "source": [
    "    def rag(query):\n",
    "        search_results = minsearch(query)\n",
    "        prompt=build_prompt(query,search_results)\n",
    "        answer = llm(prompt)\n",
    "        return answer\n"
   ]
  },
  {
   "cell_type": "code",
   "execution_count": 121,
   "metadata": {},
   "outputs": [
    {
     "data": {
      "text/plain": [
       "'According to the context, the question is \"what is the time taken to prepare momma\\'s fair funnel cake?\" and the answer is provided in the \"preparation\" section, which states: \"The momma\\'s fair funnel cake takes 20 minutes to prepare.\"'"
      ]
     },
     "execution_count": 121,
     "metadata": {},
     "output_type": "execute_result"
    }
   ],
   "source": [
    "query = \"what are the calories of white chocolate cake is it good?\"\n",
    "query = \"what is the time taken to prepare momma s fair funnel cake?\"\n",
    "\n",
    "rag(query)"
   ]
  },
  {
   "cell_type": "code",
   "execution_count": 50,
   "metadata": {},
   "outputs": [
    {
     "data": {
      "text/plain": [
       "'Can I be sure there are no artificial flavors in almond fudge banana cake?'"
      ]
     },
     "execution_count": 50,
     "metadata": {},
     "output_type": "execute_result"
    }
   ],
   "source": [
    "ground_truth[2]['question']"
   ]
  },
  {
   "cell_type": "code",
   "execution_count": 51,
   "metadata": {},
   "outputs": [
    {
     "data": {
      "text/plain": [
       "'Based on the context provided, the almond fudge banana cake does NOT contain dairy. There is no mention of dairy in the nutritional details or any other section.'"
      ]
     },
     "execution_count": 51,
     "metadata": {},
     "output_type": "execute_result"
    }
   ],
   "source": [
    "rag(ground_truth[1]['question'])"
   ]
  },
  {
   "cell_type": "markdown",
   "metadata": {},
   "source": [
    "## RAG Evaluation - LLM as a judge"
   ]
  },
  {
   "cell_type": "code",
   "execution_count": 52,
   "metadata": {},
   "outputs": [
    {
     "data": {
      "text/plain": [
       "'Based on the context, I couldn\\'t find any information in the provided sections (tags, rating, nutritional, price, calorie_status, sodium, sugar, carbohydrate) that suggests whether the almond fudge banana cake is made with real bananas or not. Therefore, my answer to the question would be \"Unknown\" or \"No information available\".'"
      ]
     },
     "execution_count": 52,
     "metadata": {},
     "output_type": "execute_result"
    }
   ],
   "source": [
    "record = ground_truth[0]\n",
    "question =  record['question']\n",
    "answer_llm = rag(question)\n",
    "answer_llm"
   ]
  },
  {
   "cell_type": "code",
   "execution_count": 53,
   "metadata": {},
   "outputs": [],
   "source": [
    "prompt2_template = \"\"\"\n",
    "You are an expert evaluator for a RAG system.\n",
    "Your task is to analyze the relevance of the generated answer to the given question.\n",
    "Based on the relevance of the generated answer, you will classify it\n",
    "as \"NON_RELEVANT\", \"PARTLY_RELEVANT\", or \"RELEVANT\".\n",
    "\n",
    "Here is the data for evaluation:\n",
    "\n",
    "Question: {question}\n",
    "Generated Answer: {answer_llm}\n",
    "\n",
    "Please analyze the content and context of the generated answer in relation to the question\n",
    "and provide your evaluation in parsable JSON without using code blocks:\n",
    "\n",
    "{{\n",
    "  \"Relevance\": \"NON_RELEVANT\" | \"PARTLY_RELEVANT\" | \"RELEVANT\",\n",
    "  \"Explanation\": \"[Provide a brief explanation for your evaluation]\"\n",
    "}}\n",
    "\"\"\".strip()"
   ]
  },
  {
   "cell_type": "code",
   "execution_count": 54,
   "metadata": {},
   "outputs": [
    {
     "data": {
      "text/plain": [
       "'You are an expert evaluator for a RAG system.\\nYour task is to analyze the relevance of the generated answer to the given question.\\nBased on the relevance of the generated answer, you will classify it\\nas \"NON_RELEVANT\", \"PARTLY_RELEVANT\", or \"RELEVANT\".\\n\\nHere is the data for evaluation:\\n\\nQuestion: Is almond fudge banana cake made with real bananas?\\nGenerated Answer: Based on the context, I couldn\\'t find any information in the provided sections (tags, rating, nutritional, price, calorie_status, sodium, sugar, carbohydrate) that suggests whether the almond fudge banana cake is made with real bananas or not. Therefore, my answer to the question would be \"Unknown\" or \"No information available\".\\n\\nPlease analyze the content and context of the generated answer in relation to the question\\nand provide your evaluation in parsable JSON without using code blocks:\\n\\n{\\n  \"Relevance\": \"NON_RELEVANT\" | \"PARTLY_RELEVANT\" | \"RELEVANT\",\\n  \"Explanation\": \"[Provide a brief explanation for your evaluation]\"\\n}'"
      ]
     },
     "execution_count": 54,
     "metadata": {},
     "output_type": "execute_result"
    }
   ],
   "source": [
    "prompt = prompt2_template.format(question=question,answer_llm=answer_llm)\n",
    "prompt"
   ]
  },
  {
   "cell_type": "code",
   "execution_count": 55,
   "metadata": {},
   "outputs": [
    {
     "data": {
      "text/plain": [
       "{'question': 'Is almond fudge banana cake made with real bananas?',\n",
       " 'id': '142_1'}"
      ]
     },
     "execution_count": 55,
     "metadata": {},
     "output_type": "execute_result"
    }
   ],
   "source": [
    "record = ground_truth[0]\n",
    "record"
   ]
  },
  {
   "cell_type": "markdown",
   "metadata": {},
   "source": [
    "## RAG EVALUATION"
   ]
  },
  {
   "cell_type": "code",
   "execution_count": 56,
   "metadata": {},
   "outputs": [
    {
     "data": {
      "text/plain": [
       "16527"
      ]
     },
     "execution_count": 56,
     "metadata": {},
     "output_type": "execute_result"
    }
   ],
   "source": [
    "len(ground_truth)\n"
   ]
  },
  {
   "cell_type": "code",
   "execution_count": 57,
   "metadata": {},
   "outputs": [],
   "source": [
    "record = ground_truth[0]\n"
   ]
  },
  {
   "cell_type": "code",
   "execution_count": 58,
   "metadata": {},
   "outputs": [
    {
     "name": "stdout",
     "output_type": "stream",
     "text": [
      "You are an expert evaluator for a RAG system.\n",
      "Your task is to analyze the relevance of the generated answer to the given question.\n",
      "Based on the relevance of the generated answer, you will classify it\n",
      "as \"NON_RELEVANT\", \"PARTLY_RELEVANT\", or \"RELEVANT\".\n",
      "\n",
      "Here is the data for evaluation:\n",
      "\n",
      "Question: Is almond fudge banana cake made with real bananas?\n",
      "Generated Answer: Based on the context, I couldn't find any information in the provided sections (tags, rating, nutritional, price, calorie_status, sodium, sugar, carbohydrate) that suggests whether the almond fudge banana cake is made with real bananas or not. Therefore, my answer to the question would be \"Unknown\" or \"No information available\".\n",
      "\n",
      "Please analyze the content and context of the generated answer in relation to the question\n",
      "and provide your evaluation in parsable JSON without using code blocks:\n",
      "\n",
      "{\n",
      "  \"Relevance\": \"NON_RELEVANT\" | \"PARTLY_RELEVANT\" | \"RELEVANT\",\n",
      "  \"Explanation\": \"[Provide a brief explanation for your evaluation]\"\n",
      "}\n"
     ]
    }
   ],
   "source": [
    "prompt = prompt2_template.format(question=question, answer_llm=answer_llm)\n",
    "print(prompt)"
   ]
  },
  {
   "cell_type": "code",
   "execution_count": 59,
   "metadata": {},
   "outputs": [
    {
     "data": {
      "text/plain": [
       "16527"
      ]
     },
     "execution_count": 59,
     "metadata": {},
     "output_type": "execute_result"
    }
   ],
   "source": [
    "import json\n",
    "len(ground_df)"
   ]
  },
  {
   "cell_type": "code",
   "execution_count": 60,
   "metadata": {},
   "outputs": [],
   "source": [
    "df_sample = ground_df.sample(n=50, random_state=1)"
   ]
  },
  {
   "cell_type": "code",
   "execution_count": 61,
   "metadata": {},
   "outputs": [],
   "source": [
    "sample  = df_sample.to_dict(orient='records')"
   ]
  },
  {
   "cell_type": "code",
   "execution_count": 62,
   "metadata": {},
   "outputs": [
    {
     "data": {
      "text/html": [
       "<div>\n",
       "<style scoped>\n",
       "    .dataframe tbody tr th:only-of-type {\n",
       "        vertical-align: middle;\n",
       "    }\n",
       "\n",
       "    .dataframe tbody tr th {\n",
       "        vertical-align: top;\n",
       "    }\n",
       "\n",
       "    .dataframe thead th {\n",
       "        text-align: right;\n",
       "    }\n",
       "</style>\n",
       "<table border=\"1\" class=\"dataframe\">\n",
       "  <thead>\n",
       "    <tr style=\"text-align: right;\">\n",
       "      <th></th>\n",
       "      <th>question</th>\n",
       "      <th>id</th>\n",
       "    </tr>\n",
       "  </thead>\n",
       "  <tbody>\n",
       "    <tr>\n",
       "      <th>3881</th>\n",
       "      <td>Are the cod cakes browned on both sides</td>\n",
       "      <td>11252_10</td>\n",
       "    </tr>\n",
       "    <tr>\n",
       "      <th>15077</th>\n",
       "      <td>Can you tell me the preparation time for Coconut Shrimp Curry?</td>\n",
       "      <td>30898_9</td>\n",
       "    </tr>\n",
       "    <tr>\n",
       "      <th>9392</th>\n",
       "      <td>Should I double the funnel cake recipe?</td>\n",
       "      <td>19611_13</td>\n",
       "    </tr>\n",
       "    <tr>\n",
       "      <th>4398</th>\n",
       "      <td>Tells me the calorie total for Streusel Plum Cake</td>\n",
       "      <td>12105_2</td>\n",
       "    </tr>\n",
       "    <tr>\n",
       "      <th>15297</th>\n",
       "      <td>Milky Way Lover's Pound Cake prep time</td>\n",
       "      <td>31334_9</td>\n",
       "    </tr>\n",
       "    <tr>\n",
       "      <th>776</th>\n",
       "      <td>dirt cake ii provides how much protein</td>\n",
       "      <td>3333_6</td>\n",
       "    </tr>\n",
       "    <tr>\n",
       "      <th>13052</th>\n",
       "      <td>Can I get a quote for Grandma Kay's Swedish pancakes?</td>\n",
       "      <td>27764_16</td>\n",
       "    </tr>\n",
       "    <tr>\n",
       "      <th>5676</th>\n",
       "      <td>Does the rhubarb stir cake have a high carb count?</td>\n",
       "      <td>14457_8</td>\n",
       "    </tr>\n",
       "    <tr>\n",
       "      <th>15891</th>\n",
       "      <td>Can I make the easy rhubarb cake in under 60 minutes?</td>\n",
       "      <td>32454_11</td>\n",
       "    </tr>\n",
       "    <tr>\n",
       "      <th>8454</th>\n",
       "      <td>What's the fat content of the key lime cheesecake squares?</td>\n",
       "      <td>18007_7</td>\n",
       "    </tr>\n",
       "    <tr>\n",
       "      <th>16308</th>\n",
       "      <td>What's the calorie count for the old fashion butter pound cake?</td>\n",
       "      <td>33150_2</td>\n",
       "    </tr>\n",
       "    <tr>\n",
       "      <th>14414</th>\n",
       "      <td>What's the instruction for baking the 1 Pan Fudge Cake?</td>\n",
       "      <td>29935_10</td>\n",
       "    </tr>\n",
       "    <tr>\n",
       "      <th>10520</th>\n",
       "      <td>What special tips do you have for making the best ricotta cheesecake?</td>\n",
       "      <td>23475_13</td>\n",
       "    </tr>\n",
       "    <tr>\n",
       "      <th>7210</th>\n",
       "      <td>Tell me the Million Dollar Pound Cake's composition?</td>\n",
       "      <td>16489_1</td>\n",
       "    </tr>\n",
       "    <tr>\n",
       "      <th>2273</th>\n",
       "      <td>Is carrot snack cake a sweet dish?</td>\n",
       "      <td>8847_14</td>\n",
       "    </tr>\n",
       "    <tr>\n",
       "      <th>7699</th>\n",
       "      <td>Can I expect high standards from the Mini Cherry Cheesecakes?</td>\n",
       "      <td>17253_12</td>\n",
       "    </tr>\n",
       "    <tr>\n",
       "      <th>8916</th>\n",
       "      <td>Can you tell me about the step-by-step process for German Chocolate Cake Squares?</td>\n",
       "      <td>18575_10</td>\n",
       "    </tr>\n",
       "    <tr>\n",
       "      <th>10024</th>\n",
       "      <td>Can I get blueberry blueberry sour cream pancakes quickly made?</td>\n",
       "      <td>22274_11</td>\n",
       "    </tr>\n",
       "    <tr>\n",
       "      <th>231</th>\n",
       "      <td>Is the Momma's Fair Funnel Cake high in salt?</td>\n",
       "      <td>916_5</td>\n",
       "    </tr>\n",
       "    <tr>\n",
       "      <th>11731</th>\n",
       "      <td>How much sweetness can we expect in the Mexican tres leche cake?</td>\n",
       "      <td>26014_4</td>\n",
       "    </tr>\n",
       "    <tr>\n",
       "      <th>5045</th>\n",
       "      <td>Does pumpkin upside down cake have a specific flavor profile?</td>\n",
       "      <td>13813_14</td>\n",
       "    </tr>\n",
       "    <tr>\n",
       "      <th>9177</th>\n",
       "      <td>How many calories does the peach upside down pudding cake contain</td>\n",
       "      <td>19324_2</td>\n",
       "    </tr>\n",
       "    <tr>\n",
       "      <th>8077</th>\n",
       "      <td>Texas Cheesecake</td>\n",
       "      <td>17624_5</td>\n",
       "    </tr>\n",
       "    <tr>\n",
       "      <th>654</th>\n",
       "      <td>What flavor profile does 7 up pound cake have?</td>\n",
       "      <td>2923_14</td>\n",
       "    </tr>\n",
       "    <tr>\n",
       "      <th>4600</th>\n",
       "      <td>What's the secret to achieving the Depression Fudge cake's rich color</td>\n",
       "      <td>12313_13</td>\n",
       "    </tr>\n",
       "    <tr>\n",
       "      <th>14236</th>\n",
       "      <td>What's the sodium level in the flourless chocolate oh so good molten cake?</td>\n",
       "      <td>29801_5</td>\n",
       "    </tr>\n",
       "    <tr>\n",
       "      <th>6291</th>\n",
       "      <td>Do you pre-bake any part of the ricotta cake?</td>\n",
       "      <td>15518_10</td>\n",
       "    </tr>\n",
       "    <tr>\n",
       "      <th>2666</th>\n",
       "      <td>Would I gain weight eating Hand Me Down Chocolate Cake?</td>\n",
       "      <td>9363_15</td>\n",
       "    </tr>\n",
       "    <tr>\n",
       "      <th>4845</th>\n",
       "      <td>Can you tell me about the sugar content of the cheesecake kugel?</td>\n",
       "      <td>13178_4</td>\n",
       "    </tr>\n",
       "    <tr>\n",
       "      <th>7328</th>\n",
       "      <td>What's the process involved in making the Kartoshnik potato cake?</td>\n",
       "      <td>16550_10</td>\n",
       "    </tr>\n",
       "    <tr>\n",
       "      <th>6668</th>\n",
       "      <td>What's the reputation of the Chocolate Cherry Cake?</td>\n",
       "      <td>15835_12</td>\n",
       "    </tr>\n",
       "    <tr>\n",
       "      <th>3525</th>\n",
       "      <td>How does the original frosting compare to other frosting options for German Chocolate Cake?</td>\n",
       "      <td>10468_13</td>\n",
       "    </tr>\n",
       "    <tr>\n",
       "      <th>12712</th>\n",
       "      <td>Can I have more information about the protein in the marbled cheesecake brownies?</td>\n",
       "      <td>26912_6</td>\n",
       "    </tr>\n",
       "    <tr>\n",
       "      <th>3201</th>\n",
       "      <td>When will fabulous carrot cake be prepared?</td>\n",
       "      <td>10294_9</td>\n",
       "    </tr>\n",
       "    <tr>\n",
       "      <th>12328</th>\n",
       "      <td>How much would I pay for Zucchini Cake?</td>\n",
       "      <td>26525_16</td>\n",
       "    </tr>\n",
       "    <tr>\n",
       "      <th>9416</th>\n",
       "      <td>What's the fat content of Dave's Special Black Forest Cake?</td>\n",
       "      <td>19667_3</td>\n",
       "    </tr>\n",
       "    <tr>\n",
       "      <th>6207</th>\n",
       "      <td>What's the amount of protein in a serving of Mexican Wedding Cakes?</td>\n",
       "      <td>15068_6</td>\n",
       "    </tr>\n",
       "    <tr>\n",
       "      <th>15638</th>\n",
       "      <td>Can you tell me the amount of salt in the Chocolate Banana Cake?</td>\n",
       "      <td>32082_5</td>\n",
       "    </tr>\n",
       "    <tr>\n",
       "      <th>11672</th>\n",
       "      <td>What does the nutritional content of the chocolate sour cream coffee cake suggest?</td>\n",
       "      <td>25906_7</td>\n",
       "    </tr>\n",
       "    <tr>\n",
       "      <th>12355</th>\n",
       "      <td>how can i reduce the sodium in the winklers moravian sugar cake?</td>\n",
       "      <td>26575_5</td>\n",
       "    </tr>\n",
       "    <tr>\n",
       "      <th>4934</th>\n",
       "      <td>What's the carb level of the fudge pudding cake I'm ordering?</td>\n",
       "      <td>13367_8</td>\n",
       "    </tr>\n",
       "    <tr>\n",
       "      <th>11859</th>\n",
       "      <td>How many calories does Spanish Lemon Cake typically have?</td>\n",
       "      <td>26017_15</td>\n",
       "    </tr>\n",
       "    <tr>\n",
       "      <th>993</th>\n",
       "      <td>How many calories can I expect from the chocolate sour cream cake?</td>\n",
       "      <td>3782_2</td>\n",
       "    </tr>\n",
       "    <tr>\n",
       "      <th>12442</th>\n",
       "      <td>Is mix and match pound cake something a beginner cook can make</td>\n",
       "      <td>26631_11</td>\n",
       "    </tr>\n",
       "    <tr>\n",
       "      <th>7266</th>\n",
       "      <td>What's the consensus on the Million Dollar Pound Cake?</td>\n",
       "      <td>16489_12</td>\n",
       "    </tr>\n",
       "    <tr>\n",
       "      <th>998</th>\n",
       "      <td>Is the Cake high in fat</td>\n",
       "      <td>3782_3</td>\n",
       "    </tr>\n",
       "    <tr>\n",
       "      <th>2741</th>\n",
       "      <td>Can I order the Chocolate Chocolate Pudding Cake with Chocolate Ganache if I'm watching my weight?</td>\n",
       "      <td>9371_15</td>\n",
       "    </tr>\n",
       "    <tr>\n",
       "      <th>12152</th>\n",
       "      <td>How good is the 'Devil's Food' cake compared to others?</td>\n",
       "      <td>26370_12</td>\n",
       "    </tr>\n",
       "    <tr>\n",
       "      <th>321</th>\n",
       "      <td>McDonald's Pancakes wait time?</td>\n",
       "      <td>1633_9</td>\n",
       "    </tr>\n",
       "    <tr>\n",
       "      <th>13229</th>\n",
       "      <td>How long does the Borden's Mini Cheesecakes take to prepare?</td>\n",
       "      <td>28028_9</td>\n",
       "    </tr>\n",
       "  </tbody>\n",
       "</table>\n",
       "</div>"
      ],
      "text/plain": [
       "                                                                                                 question  \\\n",
       "3881                                                              Are the cod cakes browned on both sides   \n",
       "15077                                      Can you tell me the preparation time for Coconut Shrimp Curry?   \n",
       "9392                                                              Should I double the funnel cake recipe?   \n",
       "4398                                                    Tells me the calorie total for Streusel Plum Cake   \n",
       "15297                                                              Milky Way Lover's Pound Cake prep time   \n",
       "776                                                                dirt cake ii provides how much protein   \n",
       "13052                                               Can I get a quote for Grandma Kay's Swedish pancakes?   \n",
       "5676                                                   Does the rhubarb stir cake have a high carb count?   \n",
       "15891                                               Can I make the easy rhubarb cake in under 60 minutes?   \n",
       "8454                                           What's the fat content of the key lime cheesecake squares?   \n",
       "16308                                     What's the calorie count for the old fashion butter pound cake?   \n",
       "14414                                             What's the instruction for baking the 1 Pan Fudge Cake?   \n",
       "10520                               What special tips do you have for making the best ricotta cheesecake?   \n",
       "7210                                                 Tell me the Million Dollar Pound Cake's composition?   \n",
       "2273                                                                   Is carrot snack cake a sweet dish?   \n",
       "7699                                        Can I expect high standards from the Mini Cherry Cheesecakes?   \n",
       "8916                    Can you tell me about the step-by-step process for German Chocolate Cake Squares?   \n",
       "10024                                     Can I get blueberry blueberry sour cream pancakes quickly made?   \n",
       "231                                                         Is the Momma's Fair Funnel Cake high in salt?   \n",
       "11731                                    How much sweetness can we expect in the Mexican tres leche cake?   \n",
       "5045                                        Does pumpkin upside down cake have a specific flavor profile?   \n",
       "9177                                    How many calories does the peach upside down pudding cake contain   \n",
       "8077                                                                                     Texas Cheesecake   \n",
       "654                                                        What flavor profile does 7 up pound cake have?   \n",
       "4600                                What's the secret to achieving the Depression Fudge cake's rich color   \n",
       "14236                          What's the sodium level in the flourless chocolate oh so good molten cake?   \n",
       "6291                                                        Do you pre-bake any part of the ricotta cake?   \n",
       "2666                                              Would I gain weight eating Hand Me Down Chocolate Cake?   \n",
       "4845                                     Can you tell me about the sugar content of the cheesecake kugel?   \n",
       "7328                                    What's the process involved in making the Kartoshnik potato cake?   \n",
       "6668                                                  What's the reputation of the Chocolate Cherry Cake?   \n",
       "3525          How does the original frosting compare to other frosting options for German Chocolate Cake?   \n",
       "12712                   Can I have more information about the protein in the marbled cheesecake brownies?   \n",
       "3201                                                          When will fabulous carrot cake be prepared?   \n",
       "12328                                                             How much would I pay for Zucchini Cake?   \n",
       "9416                                          What's the fat content of Dave's Special Black Forest Cake?   \n",
       "6207                                  What's the amount of protein in a serving of Mexican Wedding Cakes?   \n",
       "15638                                    Can you tell me the amount of salt in the Chocolate Banana Cake?   \n",
       "11672                  What does the nutritional content of the chocolate sour cream coffee cake suggest?   \n",
       "12355                                    how can i reduce the sodium in the winklers moravian sugar cake?   \n",
       "4934                                        What's the carb level of the fudge pudding cake I'm ordering?   \n",
       "11859                                           How many calories does Spanish Lemon Cake typically have?   \n",
       "993                                    How many calories can I expect from the chocolate sour cream cake?   \n",
       "12442                                      Is mix and match pound cake something a beginner cook can make   \n",
       "7266                                               What's the consensus on the Million Dollar Pound Cake?   \n",
       "998                                                                               Is the Cake high in fat   \n",
       "2741   Can I order the Chocolate Chocolate Pudding Cake with Chocolate Ganache if I'm watching my weight?   \n",
       "12152                                             How good is the 'Devil's Food' cake compared to others?   \n",
       "321                                                                        McDonald's Pancakes wait time?   \n",
       "13229                                        How long does the Borden's Mini Cheesecakes take to prepare?   \n",
       "\n",
       "             id  \n",
       "3881   11252_10  \n",
       "15077   30898_9  \n",
       "9392   19611_13  \n",
       "4398    12105_2  \n",
       "15297   31334_9  \n",
       "776      3333_6  \n",
       "13052  27764_16  \n",
       "5676    14457_8  \n",
       "15891  32454_11  \n",
       "8454    18007_7  \n",
       "16308   33150_2  \n",
       "14414  29935_10  \n",
       "10520  23475_13  \n",
       "7210    16489_1  \n",
       "2273    8847_14  \n",
       "7699   17253_12  \n",
       "8916   18575_10  \n",
       "10024  22274_11  \n",
       "231       916_5  \n",
       "11731   26014_4  \n",
       "5045   13813_14  \n",
       "9177    19324_2  \n",
       "8077    17624_5  \n",
       "654     2923_14  \n",
       "4600   12313_13  \n",
       "14236   29801_5  \n",
       "6291   15518_10  \n",
       "2666    9363_15  \n",
       "4845    13178_4  \n",
       "7328   16550_10  \n",
       "6668   15835_12  \n",
       "3525   10468_13  \n",
       "12712   26912_6  \n",
       "3201    10294_9  \n",
       "12328  26525_16  \n",
       "9416    19667_3  \n",
       "6207    15068_6  \n",
       "15638   32082_5  \n",
       "11672   25906_7  \n",
       "12355   26575_5  \n",
       "4934    13367_8  \n",
       "11859  26017_15  \n",
       "993      3782_2  \n",
       "12442  26631_11  \n",
       "7266   16489_12  \n",
       "998      3782_3  \n",
       "2741    9371_15  \n",
       "12152  26370_12  \n",
       "321      1633_9  \n",
       "13229   28028_9  "
      ]
     },
     "execution_count": 62,
     "metadata": {},
     "output_type": "execute_result"
    }
   ],
   "source": [
    "df_sample"
   ]
  },
  {
   "cell_type": "code",
   "execution_count": 63,
   "metadata": {},
   "outputs": [
    {
     "data": {
      "text/plain": [
       "50"
      ]
     },
     "execution_count": 63,
     "metadata": {},
     "output_type": "execute_result"
    }
   ],
   "source": [
    "len(sample)"
   ]
  },
  {
   "cell_type": "code",
   "execution_count": 64,
   "metadata": {
    "collapsed": true,
    "jupyter": {
     "outputs_hidden": true
    }
   },
   "outputs": [
    {
     "data": {
      "application/vnd.jupyter.widget-view+json": {
       "model_id": "e85c181810004217a1c9018de9cbf5bf",
       "version_major": 2,
       "version_minor": 0
      },
      "text/plain": [
       "  0%|          | 0/50 [00:00<?, ?it/s]"
      ]
     },
     "metadata": {},
     "output_type": "display_data"
    },
    {
     "name": "stdout",
     "output_type": "stream",
     "text": [
      "Evaluation for question Are the cod cakes browned on both sides: {\n",
      "\"Relevance\": \"RELEVANT\",\n",
      "\"Explanation\": \"The generated answer directly addresses the question 'Are the cod cakes browned on both sides' by referencing specific steps from the provided context. It states that the cod cakes are golden brown, implying they are browned on both sides, making the answer relevant to the question.\"\n",
      "}\n",
      "Final evaluation for Are the cod cakes browned on both sides: {'Relevance': 'RELEVANT', 'Explanation': \"The generated answer directly addresses the question 'Are the cod cakes browned on both sides' by referencing specific steps from the provided context. It states that the cod cakes are golden brown, implying they are browned on both sides, making the answer relevant to the question.\"}\n",
      "Evaluation for question Can you tell me the preparation time for Coconut Shrimp Curry?: {\n",
      "  \"Relevance\": \"NON_RELEVANT\",\n",
      "  \"Explanation\": \"The generated answer explicitly states that the provided text does not contain information on the preparation time for Coconut Shrimp Curry, which is not the main topic of the text. The answer is therefore orthogonal to the question and does not provide any relevant information.\"\n",
      "JSONDecodeError for question Can you tell me the preparation time for Coconut Shrimp Curry?: Expecting ',' delimiter: line 3 column 299 (char 331)\n",
      "Final evaluation for Can you tell me the preparation time for Coconut Shrimp Curry?: {'Relevance': 'UNKNOWN', 'Explanation': 'Failed to parse evaluation'}\n",
      "Evaluation for question Should I double the funnel cake recipe?: {\n",
      "\"Relevance\": \"RELEVANT\",\n",
      "\"Explanation\": \"The generated answer directly addresses the question of whether to double the funnel cake recipe and provides a relevant discussion on the ingredients, proportions, and potential adjustments for the quantity. The answer is on-topic and provides a thoughtful consideration of the context.\"\n",
      "JSONDecodeError for question Should I double the funnel cake recipe?: Expecting ',' delimiter: line 3 column 305 (char 331)\n",
      "Final evaluation for Should I double the funnel cake recipe?: {'Relevance': 'UNKNOWN', 'Explanation': 'Failed to parse evaluation'}\n",
      "Evaluation for question Tells me the calorie total for Streusel Plum Cake: {\n",
      "  \"Relevance\": \"PARTLY_RELEVANT\",\n",
      "  \"Explanation\": \"The generated answer partially addresses the question by acknowledging that the calorie total is not explicitly mentioned in the context, but also attempts to provide an estimate based on the context that the caliber status is 'Low Calorie'. The answer does not directly provide the calorie total, but it indicates that it can help estimate the calorie count, which is related to the original question.\"\n",
      "JSONDecodeError for question Tells me the calorie total for Streusel Plum Cake: Expecting ',' delimiter: line 3 column 422 (char 457)\n",
      "Final evaluation for Tells me the calorie total for Streusel Plum Cake: {'Relevance': 'UNKNOWN', 'Explanation': 'Failed to parse evaluation'}\n",
      "Evaluation for question Milky Way Lover's Pound Cake prep time: {\n",
      "\"Relevance\": \"PARTLY_RELEVANT\",\n",
      "\"Explanation\": \"The generated answer is not the exact prep time, but it offers a reasonable solution to estimate the prep time if the user provides more details about the recipe. The answer acknowledges the relevance of prep time for making the dish, even if it's not directly answered.\"\n",
      "}\n",
      "Final evaluation for Milky Way Lover's Pound Cake prep time: {'Relevance': 'PARTLY_RELEVANT', 'Explanation': \"The generated answer is not the exact prep time, but it offers a reasonable solution to estimate the prep time if the user provides more details about the recipe. The answer acknowledges the relevance of prep time for making the dish, even if it's not directly answered.\"}\n",
      "Evaluation for question dirt cake ii provides how much protein: {\n",
      "  \"Relevance\": \"RELEVANT\",\n",
      "  \"Explanation\": \"The generated answer directly responds to the question, providing a specific amount of protein (13 grams) that the dirt cake II is said to provide, thus addressing the inquiry.\"\n",
      "}\n",
      "Final evaluation for dirt cake ii provides how much protein: {'Relevance': 'RELEVANT', 'Explanation': 'The generated answer directly responds to the question, providing a specific amount of protein (13 grams) that the dirt cake II is said to provide, thus addressing the inquiry.'}\n",
      "Evaluation for question Can I get a quote for Grandma Kay's Swedish pancakes?: {\n",
      "\"Relevance\": \"PARTLY_RELEVANT\",\n",
      "\"Explanation\": \"The generated answer partially addresses the question by providing a price quote, but only for a specific menu item (Grandma Kay's Swedish pancakes), whereas the question was asking for a quote in general. The answer does not provide a quote for anything else, and the context is limited to a specific menu item.\"\n",
      "}\n",
      "Final evaluation for Can I get a quote for Grandma Kay's Swedish pancakes?: {'Relevance': 'PARTLY_RELEVANT', 'Explanation': \"The generated answer partially addresses the question by providing a price quote, but only for a specific menu item (Grandma Kay's Swedish pancakes), whereas the question was asking for a quote in general. The answer does not provide a quote for anything else, and the context is limited to a specific menu item.\"}\n",
      "Evaluation for question Does the rhubarb stir cake have a high carb count?: {\n",
      "\"Relevance\": \"RELEVANT\",\n",
      "\"Explanation\": \"The generated answer directly addresses the question, providing a specific value (17 grams of carbohydrates) to help answer the inquiry about the high carb count of the rhubarb stir cake.\"\n",
      "JSONDecodeError for question Does the rhubarb stir cake have a high carb count?: Expecting ',' delimiter: line 3 column 205 (char 231)\n",
      "Final evaluation for Does the rhubarb stir cake have a high carb count?: {'Relevance': 'UNKNOWN', 'Explanation': 'Failed to parse evaluation'}\n",
      "Evaluation for question Can I make the easy rhubarb cake in under 60 minutes?: {\n",
      "\"Relevance\": \"RELEVANT\",\n",
      "\"Explanation\": \"The answer partially addresses the question by providing information on the baking time of the easy rhubarb cake, specifically that it may take around 70 minutes, but can be done in under 60 minutes with careful monitoring and adjustments. Although the answer does not provide a direct 'yes' or 'no' answer, it provides relevant and useful information to answer the question.\"\n",
      "}\n",
      "Final evaluation for Can I make the easy rhubarb cake in under 60 minutes?: {'Relevance': 'RELEVANT', 'Explanation': \"The answer partially addresses the question by providing information on the baking time of the easy rhubarb cake, specifically that it may take around 70 minutes, but can be done in under 60 minutes with careful monitoring and adjustments. Although the answer does not provide a direct 'yes' or 'no' answer, it provides relevant and useful information to answer the question.\"}\n",
      "Evaluation for question What's the fat content of the key lime cheesecake squares?: Here is the evaluation:\n",
      "\n",
      "{\n",
      "\"Relevance\": \"RELEVANT\",\n",
      "\"Explanation\": \"The generated answer directly addresses the question, providing the fat content of the key lime cheesecake squares, including both total fat and saturated fat. The answer is specific, providing numeric values for fat content, making it relevant to the question.\"\n",
      "JSONDecodeError for question What's the fat content of the key lime cheesecake squares?: Expecting value: line 1 column 1 (char 0)\n",
      "Final evaluation for What's the fat content of the key lime cheesecake squares?: {'Relevance': 'UNKNOWN', 'Explanation': 'Failed to parse evaluation'}\n",
      "Evaluation for question What's the calorie count for the old fashion butter pound cake?: {\n",
      "  \"Relevance\": \"RELEVANT\",\n",
      "  \"Explanation\": \"The generated answer provides an exact answer to the question, which is the calorie count for the old fashion butter pound cake.\"\n",
      "}\n",
      "Final evaluation for What's the calorie count for the old fashion butter pound cake?: {'Relevance': 'RELEVANT', 'Explanation': 'The generated answer provides an exact answer to the question, which is the calorie count for the old fashion butter pound cake.'}\n",
      "Evaluation for question What's the instruction for baking the 1 Pan Fudge Cake?: {\n",
      "  \"Relevance\": \"RELEVANT\",\n",
      "  \"Explanation\": \"The generated answer provides specific instructions for baking the 1 Pan Fudge Cake, matching the question asked. The answer includes details such as temperature, pan preparation, mixing, and baking time, which are all relevant to the question.\"\n",
      "JSONDecodeError for question What's the instruction for baking the 1 Pan Fudge Cake?: Expecting ',' delimiter: line 3 column 264 (char 292)\n",
      "Final evaluation for What's the instruction for baking the 1 Pan Fudge Cake?: {'Relevance': 'UNKNOWN', 'Explanation': 'Failed to parse evaluation'}\n",
      "Evaluation for question What special tips do you have for making the best ricotta cheesecake?: {\n",
      "  \"Relevance\": \"PARTLY_RELEVANT\",\n",
      "  \"Explanation\": \"The generated answer is part of the question, but not fully relevant. The answer is partially related as it discusses a potential technique (using unwaxed dental floss to cut the cheesecake) and an alternative gluten-free option, but it does not provide the 'special tips' explicitly asked for in the question.\"\n",
      "JSONDecodeError for question What special tips do you have for making the best ricotta cheesecake?: Expecting ',' delimiter: line 3 column 330 (char 365)\n",
      "Final evaluation for What special tips do you have for making the best ricotta cheesecake?: {'Relevance': 'UNKNOWN', 'Explanation': 'Failed to parse evaluation'}\n",
      "Evaluation for question Tell me the Million Dollar Pound Cake's composition?: Here is the evaluation:\n",
      "\n",
      "{\n",
      "  \"Relevance\": \"RELEVANT\",\n",
      "  \"Explanation\": \"The generated answer provides a detailed list of ingredients that make up the Million Dollar Pound Cake, directly answering the question and providing the required information.\"\n",
      "}\n",
      "JSONDecodeError for question Tell me the Million Dollar Pound Cake's composition?: Expecting value: line 1 column 1 (char 0)\n",
      "Final evaluation for Tell me the Million Dollar Pound Cake's composition?: {'Relevance': 'UNKNOWN', 'Explanation': 'Failed to parse evaluation'}\n",
      "Evaluation for question Is carrot snack cake a sweet dish?: {\n",
      "  \"Relevance\": \"RELEVANT\",\n",
      "  \"Explanation\": \"The generated answer directly addresses the question, stating whether carrot snack cake is a sweet dish and providing supporting information about its high sugar content. This answer is highly relevant to the question, as it provides a clear and concise response to the question.\"\n",
      "JSONDecodeError for question Is carrot snack cake a sweet dish?: Expecting ',' delimiter: line 3 column 299 (char 327)\n",
      "Final evaluation for Is carrot snack cake a sweet dish?: {'Relevance': 'UNKNOWN', 'Explanation': 'Failed to parse evaluation'}\n",
      "Evaluation for question Can I expect high standards from the Mini Cherry Cheesecakes?: {\n",
      "\"Relevance\": \"PARTLY_RELEVANT\",\n",
      "\"Explanation\": \"The generated answer is partly relevant because it mentions the quality of the Mini Cherry Cheesecakes, but it doesn't directly answer the question about expecting high standards. The answer provides feedback on the product's quality, which is related to the question, but it doesn't explicitly address the expectation of high standards.\"\n",
      "JSONDecodeError for question Can I expect high standards from the Mini Cherry Cheesecakes?: Expecting ',' delimiter: line 3 column 355 (char 388)\n",
      "Final evaluation for Can I expect high standards from the Mini Cherry Cheesecakes?: {'Relevance': 'UNKNOWN', 'Explanation': 'Failed to parse evaluation'}\n",
      "Evaluation for question Can you tell me about the step-by-step process for German Chocolate Cake Squares?: {\n",
      "  \"Relevance\": \"NON_RELEVANT\",\n",
      "  \"Explanation\": \"The generated answer does not provide the step-by-step process for German Chocolate Cake Squares as requested in the question, instead, it mentions that the directions were easy to follow but doesn't provide the information, making it non-relevant to the question\"\n",
      "}\n",
      "Final evaluation for Can you tell me about the step-by-step process for German Chocolate Cake Squares?: {'Relevance': 'NON_RELEVANT', 'Explanation': \"The generated answer does not provide the step-by-step process for German Chocolate Cake Squares as requested in the question, instead, it mentions that the directions were easy to follow but doesn't provide the information, making it non-relevant to the question\"}\n",
      "Evaluation for question Can I get blueberry blueberry sour cream pancakes quickly made?: {\n",
      "\"Relevance\": \"PARTLY_RELEVANT\",\n",
      "\"Explanation\": \"The generated answer partially addresses the question by providing a yes/no answer to the feasibility of quickly making blueberry blueberry sour cream pancakes. However, it does not provide information on how to make them quickly, which is the main concern of the user's question.\"\n",
      "JSONDecodeError for question Can I get blueberry blueberry sour cream pancakes quickly made?: Expecting ',' delimiter: line 3 column 298 (char 331)\n",
      "Final evaluation for Can I get blueberry blueberry sour cream pancakes quickly made?: {'Relevance': 'UNKNOWN', 'Explanation': 'Failed to parse evaluation'}\n",
      "Evaluation for question Is the Momma's Fair Funnel Cake high in salt?: {\n",
      "\"Relevance\": \"RELEVANT\",\n",
      "\"Explanation\": \"The generated answer mentions the 16 grams of sodium in the Momma's Fair Funnel Cake, which is a direct answer to the question about the high salt content. The answer provides specific information related to the question, making it relevant.\"\n",
      "}\n",
      "Final evaluation for Is the Momma's Fair Funnel Cake high in salt?: {'Relevance': 'RELEVANT', 'Explanation': \"The generated answer mentions the 16 grams of sodium in the Momma's Fair Funnel Cake, which is a direct answer to the question about the high salt content. The answer provides specific information related to the question, making it relevant.\"}\n",
      "Evaluation for question How much sweetness can we expect in the Mexican tres leche cake?: Here is my evaluation:\n",
      "\n",
      "{\n",
      "  \"Relevance\": \"NON_RELEVANT\",\n",
      "  \"Explanation\": \"The generated answer is a query about sweetness in the Mexican Tres Leche Cake, but it does not provide a direct answer to the question. The context does not mention the sweetness level of the Mexican Tres Leche Cake, and the generated answer does not provide any additional information to support the relevance to the question.\"\n",
      "}\n",
      "JSONDecodeError for question How much sweetness can we expect in the Mexican tres leche cake?: Expecting value: line 1 column 1 (char 0)\n",
      "Final evaluation for How much sweetness can we expect in the Mexican tres leche cake?: {'Relevance': 'UNKNOWN', 'Explanation': 'Failed to parse evaluation'}\n",
      "Evaluation for question Does pumpkin upside down cake have a specific flavor profile?: {\n",
      "  \"Relevance\": \"RELEVANT\",\n",
      "  \"Explanation\": \"The generated answer directly addresses the question, providing a clear and accurate statement about the absence of a specific flavor profile for pumpkin upside down cake. The answer is relevant to the question, providing a specific answer that can be used to answer the question.\"\n",
      "JSONDecodeError for question Does pumpkin upside down cake have a specific flavor profile?: Expecting ',' delimiter: line 3 column 300 (char 328)\n",
      "Final evaluation for Does pumpkin upside down cake have a specific flavor profile?: {'Relevance': 'UNKNOWN', 'Explanation': 'Failed to parse evaluation'}\n",
      "Evaluation for question How many calories does the peach upside down pudding cake contain: {\n",
      "  \"Relevance\": \"RELEVANT\",\n",
      "  \"Explanation\": \"The generated answer provides a specific value '413.0 calories' which directly addresses the question 'How many calories does the peach upside down pudding cake contain'. The answer is relevant because it provides the exact information asked in the question.\"\n",
      "JSONDecodeError for question How many calories does the peach upside down pudding cake contain: Expecting ',' delimiter: line 3 column 278 (char 306)\n",
      "Final evaluation for How many calories does the peach upside down pudding cake contain: {'Relevance': 'UNKNOWN', 'Explanation': 'Failed to parse evaluation'}\n",
      "Evaluation for question Texas Cheesecake: {\n",
      "  \"Relevance\": \"PARTLY_RELEVANT\",\n",
      "  \"Explanation\": \"The generated answer partially responds to the question by mentioning the Texas Cheesecake, but it doesn't directly answer the question about the dish itself. Instead, it provides a rating, which is not the primary information the question is seeking.\"\n",
      "}\n",
      "Final evaluation for Texas Cheesecake: {'Relevance': 'PARTLY_RELEVANT', 'Explanation': \"The generated answer partially responds to the question by mentioning the Texas Cheesecake, but it doesn't directly answer the question about the dish itself. Instead, it provides a rating, which is not the primary information the question is seeking.\"}\n",
      "Evaluation for question What flavor profile does 7 up pound cake have?: {\n",
      "  \"Relevance\": \"RELEVANT\",\n",
      "  \"Explanation\": \"The generated answer addresses the question directly, providing a clear explanation of why 7 Up pound cake is not mentioned in the context, which is the main point of the question.\"\n",
      "}\n",
      "Final evaluation for What flavor profile does 7 up pound cake have?: {'Relevance': 'RELEVANT', 'Explanation': 'The generated answer addresses the question directly, providing a clear explanation of why 7 Up pound cake is not mentioned in the context, which is the main point of the question.'}\n",
      "Evaluation for question What's the secret to achieving the Depression Fudge cake's rich color: {\n",
      "  \"Relevance\": \"RELEVANT\",\n",
      "  \"Explanation\": \"The generated answer attempts to address the question by providing a possible solution to achieve the Depression Fudge cake's rich color. Although it doesn't directly provide the secret, it logically infers the importance of cocoa addition in the preparation process, making it a relevant response to the question.\"\n",
      "}\n",
      "Final evaluation for What's the secret to achieving the Depression Fudge cake's rich color: {'Relevance': 'RELEVANT', 'Explanation': \"The generated answer attempts to address the question by providing a possible solution to achieve the Depression Fudge cake's rich color. Although it doesn't directly provide the secret, it logically infers the importance of cocoa addition in the preparation process, making it a relevant response to the question.\"}\n",
      "Evaluation for question What's the sodium level in the flourless chocolate oh so good molten cake?: {\n",
      "  \"Relevance\": \"NON_RELEVANT\",\n",
      "  \"Explanation\": \"The generated answer mentions the sodium level in the cake, but it's not the actual sodium level. The provided answer includes 'PDV', which is not a unit of measurement for sodium levels, and the answer is likely a message or a disclaimer related to the nutritional content, rather than providing a quantitative value of the sodium level.\"\n",
      "}\n",
      "Final evaluation for What's the sodium level in the flourless chocolate oh so good molten cake?: {'Relevance': 'NON_RELEVANT', 'Explanation': \"The generated answer mentions the sodium level in the cake, but it's not the actual sodium level. The provided answer includes 'PDV', which is not a unit of measurement for sodium levels, and the answer is likely a message or a disclaimer related to the nutritional content, rather than providing a quantitative value of the sodium level.\"}\n",
      "Evaluation for question Do you pre-bake any part of the ricotta cake?: {\n",
      "  \"Relevance\": \"NON_RELEVANT\",\n",
      "  \"Explanation\": \"The answer does not provide any information about pre-baking the ricotta cake, which is the specific question being asked.\"\n",
      "}\n",
      "Final evaluation for Do you pre-bake any part of the ricotta cake?: {'Relevance': 'NON_RELEVANT', 'Explanation': 'The answer does not provide any information about pre-baking the ricotta cake, which is the specific question being asked.'}\n",
      "Evaluation for question Would I gain weight eating Hand Me Down Chocolate Cake?: {\n",
      "  \"Relevance\": \"RELEVANT\",\n",
      "  \"Explanation\": \"The generated answer directly addresses the question by providing information about the nutritional content of the Hand Me Down Chocolate Cake and its potential impact on weight gain. The answer does not simply repeat the question but provides a detailed explanation and cautionary advice, making it relevant to the question.\"\n",
      "}\n",
      "Final evaluation for Would I gain weight eating Hand Me Down Chocolate Cake?: {'Relevance': 'RELEVANT', 'Explanation': 'The generated answer directly addresses the question by providing information about the nutritional content of the Hand Me Down Chocolate Cake and its potential impact on weight gain. The answer does not simply repeat the question but provides a detailed explanation and cautionary advice, making it relevant to the question.'}\n",
      "Evaluation for question Can you tell me about the sugar content of the cheesecake kugel?: {\n",
      "  \"Relevance\": \"PARTLY_RELEVANT\",\n",
      "  \"Explanation\": \"The generated answer partially addresses the question as it provides information about the sugar content of the cheesecake kugel. However, it does not provide context or explanation about what PDV means, which might make it harder for the user to understand the answer fully.\"\n",
      "}\n",
      "Final evaluation for Can you tell me about the sugar content of the cheesecake kugel?: {'Relevance': 'PARTLY_RELEVANT', 'Explanation': 'The generated answer partially addresses the question as it provides information about the sugar content of the cheesecake kugel. However, it does not provide context or explanation about what PDV means, which might make it harder for the user to understand the answer fully.'}\n",
      "Evaluation for question What's the process involved in making the Kartoshnik potato cake?: {\n",
      "  \"Relevance\": \"NON_RELEVANT\",\n",
      "  \"Explanation\": \"The generated answer does not describe the process involved in making the Kartoshnik potato cake, instead it mentions the time taken to prepare, which is not relevant to the question.\"\n",
      "JSONDecodeError for question What's the process involved in making the Kartoshnik potato cake?: Expecting ',' delimiter: line 3 column 203 (char 235)\n",
      "Final evaluation for What's the process involved in making the Kartoshnik potato cake?: {'Relevance': 'UNKNOWN', 'Explanation': 'Failed to parse evaluation'}\n",
      "Evaluation for question What's the reputation of the Chocolate Cherry Cake?: {\n",
      "  \"Relevance\": \"PARTLY_RELEVANT\",\n",
      "  \"Explanation\": \"The generated answer provides information about the reputation and rating of the Chocolate Cherry Cake, which is indirectly related to the question about the reputation. However, the question specifically asks about the reputation, and the answer does not provide a clear description of the reputation, only a rating.\"\n",
      "}\n",
      "Final evaluation for What's the reputation of the Chocolate Cherry Cake?: {'Relevance': 'PARTLY_RELEVANT', 'Explanation': 'The generated answer provides information about the reputation and rating of the Chocolate Cherry Cake, which is indirectly related to the question about the reputation. However, the question specifically asks about the reputation, and the answer does not provide a clear description of the reputation, only a rating.'}\n",
      "Evaluation for question How does the original frosting compare to other frosting options for German Chocolate Cake?: {\n",
      "  \"Relevance\": \"NON_RELEVANT\",\n",
      "  \"Explanation\": \"The generated answer does not provide a comparison between the original frosting and other frosting options for German Chocolate Cake as requested in the question. Instead, it provides general information about the original frosting, which does not address the question's inquiry about comparison.\"\n",
      "JSONDecodeError for question How does the original frosting compare to other frosting options for German Chocolate Cake?: Expecting ',' delimiter: line 3 column 317 (char 349)\n",
      "Final evaluation for How does the original frosting compare to other frosting options for German Chocolate Cake?: {'Relevance': 'UNKNOWN', 'Explanation': 'Failed to parse evaluation'}\n",
      "Evaluation for question Can I have more information about the protein in the marbled cheesecake brownies?: {\n",
      "  \"Relevance\": \"RELEVANT\",\n",
      "  \"Explanation\": \"The generated answer provides information related to the protein content of brownies, specifically addressing a difference between marbled cheesecake brownies and philly cheesecake brownies. The answer correctly mentions the protein content in grams. Although it does not directly answer the original question, it provides relevant details about the protein in marbled cheesecake brownies, making it relevant to the topic.\"\n",
      "JSONDecodeError for question Can I have more information about the protein in the marbled cheesecake brownies?: Expecting ',' delimiter: line 3 column 442 (char 470)\n",
      "Final evaluation for Can I have more information about the protein in the marbled cheesecake brownies?: {'Relevance': 'UNKNOWN', 'Explanation': 'Failed to parse evaluation'}\n",
      "Evaluation for question When will fabulous carrot cake be prepared?: {\n",
      "\"Relevance\": \"PARTLY_RELEVANT\",\n",
      "\"Explanation\": \"The answer partially addresses the question by providing a time frame for the preparation of the fabulous carrot cake, but it does not directly answer the question of when it will be prepared.\"\n",
      "JSONDecodeError for question When will fabulous carrot cake be prepared?: Expecting ',' delimiter: line 3 column 210 (char 243)\n",
      "Final evaluation for When will fabulous carrot cake be prepared?: {'Relevance': 'UNKNOWN', 'Explanation': 'Failed to parse evaluation'}\n",
      "Evaluation for question How much would I pay for Zucchini Cake?: {\n",
      "  \"Relevance\": \"PARTLY_RELEVANT\",\n",
      "  \"Explanation\": \"The generated answer acknowledges the question and attempts to provide a helpful response, but it does not directly provide the requested information, the price of Zucchini Cake. Instead, it suggests that the context does not provide the necessary information and offers to help find the answer, which is partially relevant to the question.\"\n",
      "JSONDecodeError for question How much would I pay for Zucchini Cake?: Expecting ',' delimiter: line 3 column 360 (char 395)\n",
      "Final evaluation for How much would I pay for Zucchini Cake?: {'Relevance': 'UNKNOWN', 'Explanation': 'Failed to parse evaluation'}\n",
      "Evaluation for question What's the fat content of Dave's Special Black Forest Cake?: {\n",
      "  \"Relevance\": \"RELEVANT\",\n",
      "  \"Explanation\": \"The generated answer directly addresses the question, providing the fat content of Dave's Special Black Forest Cake in a specific unit (16 grams of total fat (PDV)). It matches the expected format and target of the question, making it relevant.\"\n",
      "JSONDecodeError for question What's the fat content of Dave's Special Black Forest Cake?: Expecting ',' delimiter: line 3 column 264 (char 292)\n",
      "Final evaluation for What's the fat content of Dave's Special Black Forest Cake?: {'Relevance': 'UNKNOWN', 'Explanation': 'Failed to parse evaluation'}\n",
      "Evaluation for question What's the amount of protein in a serving of Mexican Wedding Cakes?: {\n",
      "  \"Relevance\": \"PARTLY_RELEVANT\",\n",
      "  \"Explanation\": \"The generated answer provides the amount of protein in Mexican Wedding Cakes, which is relevant to the question. However, the context provided in the question is about Mexican Wedding Cakes, which is a type of cookie, but the answer doesn't specify whether it's per serving or total amount. Accurate information would be important to make the answer fully relevant to the question.\"\n",
      "JSONDecodeError for question What's the amount of protein in a serving of Mexican Wedding Cakes?: Expecting ',' delimiter: line 3 column 401 (char 436)\n",
      "Final evaluation for What's the amount of protein in a serving of Mexican Wedding Cakes?: {'Relevance': 'UNKNOWN', 'Explanation': 'Failed to parse evaluation'}\n",
      "Evaluation for question Can you tell me the amount of salt in the Chocolate Banana Cake?: {\n",
      "  \"Relevance\": \"RELEVANT\",\n",
      "  \"Explanation\": \"Although the answer does not provide a direct answer to the question, it does provide relevant information in relation to the question. The answer acknowledges that the context does not provide information about the amount of salt, and provides an additional piece of information about the sodium content being unspecified, which still offers some insight into the question.\"\n",
      "}\n",
      "Final evaluation for Can you tell me the amount of salt in the Chocolate Banana Cake?: {'Relevance': 'RELEVANT', 'Explanation': 'Although the answer does not provide a direct answer to the question, it does provide relevant information in relation to the question. The answer acknowledges that the context does not provide information about the amount of salt, and provides an additional piece of information about the sodium content being unspecified, which still offers some insight into the question.'}\n",
      "Evaluation for question What does the nutritional content of the chocolate sour cream coffee cake suggest?: {\n",
      "  \"Relevance\": \"PARTLY_RELEVANT\",\n",
      "  \"Explanation\": \"The generated answer partially answers the question by mentioning the nutritional content of the chocolate sour cream coffee cake, specifically highlighting the high levels of sugar and carbohydrates. However, it does not directly suggest anything from the nutritional content, as there is no clear conclusion or recommendation drawn from it.\"\n",
      "}\n",
      "Final evaluation for What does the nutritional content of the chocolate sour cream coffee cake suggest?: {'Relevance': 'PARTLY_RELEVANT', 'Explanation': 'The generated answer partially answers the question by mentioning the nutritional content of the chocolate sour cream coffee cake, specifically highlighting the high levels of sugar and carbohydrates. However, it does not directly suggest anything from the nutritional content, as there is no clear conclusion or recommendation drawn from it.'}\n",
      "Evaluation for question how can i reduce the sodium in the winklers moravian sugar cake?: {\n",
      "  \"Relevance\": \"RELEVANT\",\n",
      "  \"Explanation\": \"The generated answer directly addresses the question of how to reduce sodium in the Winklers Moravian Sugar Cake, providing specific suggestions and alternatives to reduce sodium content.\"\n",
      "}\n",
      "Final evaluation for how can i reduce the sodium in the winklers moravian sugar cake?: {'Relevance': 'RELEVANT', 'Explanation': 'The generated answer directly addresses the question of how to reduce sodium in the Winklers Moravian Sugar Cake, providing specific suggestions and alternatives to reduce sodium content.'}\n",
      "Evaluation for question What's the carb level of the fudge pudding cake I'm ordering?: {\n",
      "  \"Relevance\": \"RELEVANT\",\n",
      "  \"Explanation\": \"The generated answer directly addresses the question about the carb level of the fudge pudding cake, providing the requested information (23 grams) and therefore is highly relevant to the question.\"\n",
      "}\n",
      "Final evaluation for What's the carb level of the fudge pudding cake I'm ordering?: {'Relevance': 'RELEVANT', 'Explanation': 'The generated answer directly addresses the question about the carb level of the fudge pudding cake, providing the requested information (23 grams) and therefore is highly relevant to the question.'}\n",
      "Evaluation for question How many calories does Spanish Lemon Cake typically have?: {\n",
      "\"Relevance\": \"RELEVANT\",\n",
      "\"Explanation\": \"The generated answer provides a specific number of calories (485.7) in relation to the Spanish Lemon Cake, which is directly answering the question about the calories of the cake.\"\n",
      "JSONDecodeError for question How many calories does Spanish Lemon Cake typically have?: Expecting ',' delimiter: line 3 column 197 (char 223)\n",
      "Final evaluation for How many calories does Spanish Lemon Cake typically have?: {'Relevance': 'UNKNOWN', 'Explanation': 'Failed to parse evaluation'}\n",
      "Evaluation for question How many calories can I expect from the chocolate sour cream cake?: {\n",
      "  \"Relevance\": \"RELEVANT\",\n",
      "  \"Explanation\": \"The generated answer is relevant to the question as it provides information about the calories expected from the chocolate sour cream cake, even though it's not a direct answer. It acknowledges that there is no specific calorie count available but provides related options with different calorie counts, which still addresses the question's inquiry.\"\n",
      "JSONDecodeError for question How many calories can I expect from the chocolate sour cream cake?: Expecting ',' delimiter: line 3 column 369 (char 397)\n",
      "Final evaluation for How many calories can I expect from the chocolate sour cream cake?: {'Relevance': 'UNKNOWN', 'Explanation': 'Failed to parse evaluation'}\n",
      "Evaluation for question Is mix and match pound cake something a beginner cook can make: {\n",
      "  \"Relevance\": \"PARTLY_RELEVANT\",\n",
      "  \"Explanation\": \"The generated answer mentions that the recipe may be relatively simple and that a beginner cook could follow it, but it doesn't directly answer the question about whether mix and match pound cake is suitable for a beginner cook. The answer provides some relevant information, but it doesn't fully address the question being asked.\"\n",
      "JSONDecodeError for question Is mix and match pound cake something a beginner cook can make: Expecting ',' delimiter: line 3 column 350 (char 385)\n",
      "Final evaluation for Is mix and match pound cake something a beginner cook can make: {'Relevance': 'UNKNOWN', 'Explanation': 'Failed to parse evaluation'}\n",
      "Evaluation for question What's the consensus on the Million Dollar Pound Cake?: {\n",
      "  \"Relevance\": \"PARTLY_RELEVANT\",\n",
      "  \"Explanation\": \"The generated answer mentions a specific rating, but it is unclear what the consensus is or what the Million Dollar Pound Cake refers to. The answer partially addresses the question by providing a rating, but lacks context and relevance to the rest of the question.\"\n",
      "}\n",
      "Final evaluation for What's the consensus on the Million Dollar Pound Cake?: {'Relevance': 'PARTLY_RELEVANT', 'Explanation': 'The generated answer mentions a specific rating, but it is unclear what the consensus is or what the Million Dollar Pound Cake refers to. The answer partially addresses the question by providing a rating, but lacks context and relevance to the rest of the question.'}\n",
      "Evaluation for question Is the Cake high in fat: {\n",
      "  \"Relevance\": \"RELEVANT\",\n",
      "  \"Explanation\": \"The generated answer directly addresses the question 'Is the Cake high in fat' by providing a specific amount of fat content in the cake, which corresponds to the definition of 'high in fat'. The answer is relevant to the question and provides sufficient information to answer it accurately.\"\n",
      "}\n",
      "Final evaluation for Is the Cake high in fat: {'Relevance': 'RELEVANT', 'Explanation': \"The generated answer directly addresses the question 'Is the Cake high in fat' by providing a specific amount of fat content in the cake, which corresponds to the definition of 'high in fat'. The answer is relevant to the question and provides sufficient information to answer it accurately.\"}\n",
      "Evaluation for question Can I order the Chocolate Chocolate Pudding Cake with Chocolate Ganache if I'm watching my weight?: {\n",
      "  \"Relevance\": \"PARTLY_RELEVANT\",\n",
      "  \"Explanation\": \"The generated answer provides relevant information about the nutritional content of the Chocolate Chocolate Pudding Cake with Chocolate Ganache, which is directly related to the question of whether it's suitable for someone watching their weight. However, it does not directly answer the question or provide a clear yes or no answer, instead offering a recommendation. The relevance is partially due to the answer providing relevant details while not fully addressing the question\"\n",
      "JSONDecodeError for question Can I order the Chocolate Chocolate Pudding Cake with Chocolate Ganache if I'm watching my weight?: Expecting ',' delimiter: line 3 column 500 (char 535)\n",
      "Final evaluation for Can I order the Chocolate Chocolate Pudding Cake with Chocolate Ganache if I'm watching my weight?: {'Relevance': 'UNKNOWN', 'Explanation': 'Failed to parse evaluation'}\n",
      "Evaluation for question How good is the 'Devil's Food' cake compared to others?: {\n",
      "  \"Relevance\": \"RELEVANT\",\n",
      "  \"Explanation\": \"The generated answer directly addresses the question by providing an evaluation of the 'Devil's Food' cake's quality and popularity, highlighting its positive feedback and high rating. This answer is specifically relevant to the question and provides a clear comparison to other cakes.\"\n",
      "JSONDecodeError for question How good is the 'Devil's Food' cake compared to others?: Expecting ',' delimiter: line 3 column 305 (char 333)\n",
      "Final evaluation for How good is the 'Devil's Food' cake compared to others?: {'Relevance': 'UNKNOWN', 'Explanation': 'Failed to parse evaluation'}\n",
      "Evaluation for question McDonald's Pancakes wait time?: {\n",
      "  \"Relevance\": \"NON_RELEVANT\",\n",
      "  \"Explanation\": \"The generated answer is not relevant to the question as it only provides information about the query, and not the actual wait time for McDonald's Pancakes, which is the focus of the question.\"\n",
      "}\n",
      "Final evaluation for McDonald's Pancakes wait time?: {'Relevance': 'NON_RELEVANT', 'Explanation': \"The generated answer is not relevant to the question as it only provides information about the query, and not the actual wait time for McDonald's Pancakes, which is the focus of the question.\"}\n",
      "Evaluation for question How long does the Borden's Mini Cheesecakes take to prepare?: {\n",
      "\"Relevance\": \"RELEVANT\",\n",
      "\"Explanation\": \"The generated answer provides specific information about the preparation time of Borden's Mini Cheesecakes, which is the main topic of the question. The answer directly answers the question and provides a concrete piece of data, making it highly relevant to the question.\"\n",
      "JSONDecodeError for question How long does the Borden's Mini Cheesecakes take to prepare?: Expecting ',' delimiter: line 3 column 289 (char 315)\n",
      "Final evaluation for How long does the Borden's Mini Cheesecakes take to prepare?: {'Relevance': 'UNKNOWN', 'Explanation': 'Failed to parse evaluation'}\n"
     ]
    }
   ],
   "source": [
    "evaluation_results = []\n",
    "for record in tqdm(sample):\n",
    "    question = record['question']\n",
    "    answer_llm = rag(question) \n",
    "\n",
    "    prompt = prompt2_template.format(\n",
    "        question=question,\n",
    "        answer_llm=answer_llm\n",
    "    )\n",
    "\n",
    "    evaluation = llm(prompt)\n",
    "\n",
    "    # Log the evaluation to inspect if it's valid JSON\n",
    "    print(f\"Evaluation for question {question}: {evaluation}\")\n",
    "\n",
    "    try:\n",
    "        # Try to parse the evaluation response as JSON\n",
    "        evaluation_json = json.loads(evaluation)\n",
    "    except json.JSONDecodeError as e:\n",
    "        # Handle JSON decode errors gracefully\n",
    "        print(f\"JSONDecodeError for question {question}: {e}\")\n",
    "        evaluation_json = None  # Use None or set a default value\n",
    "\n",
    "    # Initialize the evaluation result if it's None or empty\n",
    "    if evaluation_json is None:\n",
    "        evaluation_json = {\"Relevance\": \"UNKNOWN\", \"Explanation\": \"Failed to parse evaluation\"}\n",
    "\n",
    "    # Log and store evaluation\n",
    "    print(f\"Final evaluation for {question}: {evaluation_json}\")\n",
    "    \n",
    "    # Now append to your results list, ensuring `evaluation` is initialized properly\n",
    "    evaluation_results.append((record, answer_llm, evaluation_json))\n"
   ]
  },
  {
   "cell_type": "code",
   "execution_count": 65,
   "metadata": {},
   "outputs": [],
   "source": [
    "df_eval = pd.DataFrame(evaluation_results, columns=['record', 'answer', 'evaluation'])\n",
    "\n",
    "df_eval['id'] = df_eval.record.apply(lambda d: d['id'])\n",
    "df_eval['question'] = df_eval.record.apply(lambda d: d['question'])\n",
    "\n",
    "df_eval['relevance'] = df_eval.evaluation.apply(lambda d: d['Relevance'])\n",
    "df_eval['explanation'] = df_eval.evaluation.apply(lambda d: d['Explanation'])\n",
    "\n",
    "del df_eval['record']\n",
    "del df_eval['evaluation']"
   ]
  },
  {
   "cell_type": "code",
   "execution_count": 66,
   "metadata": {},
   "outputs": [
    {
     "data": {
      "text/plain": [
       "relevance\n",
       "UNKNOWN            0.54\n",
       "RELEVANT           0.24\n",
       "PARTLY_RELEVANT    0.14\n",
       "NON_RELEVANT       0.08\n",
       "Name: proportion, dtype: float64"
      ]
     },
     "execution_count": 66,
     "metadata": {},
     "output_type": "execute_result"
    }
   ],
   "source": [
    "df_eval.relevance.value_counts(normalize=True)\n"
   ]
  },
  {
   "cell_type": "code",
   "execution_count": 67,
   "metadata": {},
   "outputs": [],
   "source": [
    "df_eval.to_csv(input_data_folder+'rag-eval-'+MODEL_NAME+'.csv', index=False)"
   ]
  },
  {
   "cell_type": "code",
   "execution_count": 68,
   "metadata": {},
   "outputs": [
    {
     "data": {
      "text/html": [
       "<div>\n",
       "<style scoped>\n",
       "    .dataframe tbody tr th:only-of-type {\n",
       "        vertical-align: middle;\n",
       "    }\n",
       "\n",
       "    .dataframe tbody tr th {\n",
       "        vertical-align: top;\n",
       "    }\n",
       "\n",
       "    .dataframe thead th {\n",
       "        text-align: right;\n",
       "    }\n",
       "</style>\n",
       "<table border=\"1\" class=\"dataframe\">\n",
       "  <thead>\n",
       "    <tr style=\"text-align: right;\">\n",
       "      <th></th>\n",
       "      <th>answer</th>\n",
       "      <th>id</th>\n",
       "      <th>question</th>\n",
       "      <th>relevance</th>\n",
       "      <th>explanation</th>\n",
       "    </tr>\n",
       "  </thead>\n",
       "  <tbody>\n",
       "    <tr>\n",
       "      <th>0</th>\n",
       "      <td>Based on the context, I see that you're asking about the Newfoundland Cod Cakes, not the New York Style Cheesecake on Shortbread Crust. According to the Section: steps, the answer is: \"in a skillet fry the patties in the oil , 4-5 minutes each side until they are golden brown\". Therefore, the cod cakes are browned on both sides.</td>\n",
       "      <td>11252_10</td>\n",
       "      <td>Are the cod cakes browned on both sides</td>\n",
       "      <td>RELEVANT</td>\n",
       "      <td>The generated answer directly addresses the question 'Are the cod cakes browned on both sides' by referencing specific steps from the provided context. It states that the cod cakes are golden brown, implying they are browned on both sides, making the answer relevant to the question.</td>\n",
       "    </tr>\n",
       "    <tr>\n",
       "      <th>5</th>\n",
       "      <td>According to the context, The dirt cake ii provides 13 grams of protein.</td>\n",
       "      <td>3333_6</td>\n",
       "      <td>dirt cake ii provides how much protein</td>\n",
       "      <td>RELEVANT</td>\n",
       "      <td>The generated answer directly responds to the question, providing a specific amount of protein (13 grams) that the dirt cake II is said to provide, thus addressing the inquiry.</td>\n",
       "    </tr>\n",
       "    <tr>\n",
       "      <th>8</th>\n",
       "      <td>Based on the CONTEXT provided, the QUESTION asks: \"Can I make the easy rhubarb cake in under 60 minutes?\"\\n\\nAccording to the REVIEW section, the baking time for this recipe is around 70 minutes, with the reviewer noting that it may take about 45 minutes at a low altitude. However, what's important is that the reviewer mentions planning for at least 45 minutes and checking regularly. This suggests that it may be possible to make the easy rhubarb cake in a time frame of under 60 minutes, but it would require careful monitoring and possibly some adjustments to the recipe.</td>\n",
       "      <td>32454_11</td>\n",
       "      <td>Can I make the easy rhubarb cake in under 60 minutes?</td>\n",
       "      <td>RELEVANT</td>\n",
       "      <td>The answer partially addresses the question by providing information on the baking time of the easy rhubarb cake, specifically that it may take around 70 minutes, but can be done in under 60 minutes with careful monitoring and adjustments. Although the answer does not provide a direct 'yes' or 'no' answer, it provides relevant and useful information to answer the question.</td>\n",
       "    </tr>\n",
       "    <tr>\n",
       "      <th>10</th>\n",
       "      <td>According to the context, the old fashion butter pound cake has 4213.2 calories.</td>\n",
       "      <td>33150_2</td>\n",
       "      <td>What's the calorie count for the old fashion butter pound cake?</td>\n",
       "      <td>RELEVANT</td>\n",
       "      <td>The generated answer provides an exact answer to the question, which is the calorie count for the old fashion butter pound cake.</td>\n",
       "    </tr>\n",
       "    <tr>\n",
       "      <th>18</th>\n",
       "      <td>Based on the context provided, the Momma's Fair Funnel Cake has 16 grams of sodium.</td>\n",
       "      <td>916_5</td>\n",
       "      <td>Is the Momma's Fair Funnel Cake high in salt?</td>\n",
       "      <td>RELEVANT</td>\n",
       "      <td>The generated answer mentions the 16 grams of sodium in the Momma's Fair Funnel Cake, which is a direct answer to the question about the high salt content. The answer provides specific information related to the question, making it relevant.</td>\n",
       "    </tr>\n",
       "    <tr>\n",
       "      <th>23</th>\n",
       "      <td>Based on the context provided, I didn't find any mention of \"7 up pound cake\" or any information related to it. The provided text only mentions \"up pound cake\" and \"five flavor pound cake\", but not \"7 up pound cake\". Therefore, I cannot answer the question about the flavor profile of \"7 up pound cake\" as it is not mentioned in the context.</td>\n",
       "      <td>2923_14</td>\n",
       "      <td>What flavor profile does 7 up pound cake have?</td>\n",
       "      <td>RELEVANT</td>\n",
       "      <td>The generated answer addresses the question directly, providing a clear explanation of why 7 Up pound cake is not mentioned in the context, which is the main point of the question.</td>\n",
       "    </tr>\n",
       "    <tr>\n",
       "      <th>24</th>\n",
       "      <td>Based on the context provided, the question is \"What's the secret to achieving the Depression Fudge cake's rich color?\"\\n\\nThis question falls under the section of preparation, and the answer is not explicitly mentioned. However, from the steps provided to prepare the Depression Fudge cake, we can infer that it's the addition of cocoa that contributes to the cake's rich color.</td>\n",
       "      <td>12313_13</td>\n",
       "      <td>What's the secret to achieving the Depression Fudge cake's rich color</td>\n",
       "      <td>RELEVANT</td>\n",
       "      <td>The generated answer attempts to address the question by providing a possible solution to achieve the Depression Fudge cake's rich color. Although it doesn't directly provide the secret, it logically infers the importance of cocoa addition in the preparation process, making it a relevant response to the question.</td>\n",
       "    </tr>\n",
       "    <tr>\n",
       "      <th>27</th>\n",
       "      <td>Based on the nutritional information provided, the Hand Me Down Chocolate Cake contains 14 grams of total fat, 28 grams of saturated fat, and 11 grams of carbohydrates. Since it also has a calorie status of Low Calory, I would say that eating this cake is unlikely to cause significant weight gain, as it is relatively low in calories and fat. However, it's important to keep in mind that consuming large quantities or multiple servings of this cake could potentially lead to weight gain. Enjoy in moderation!</td>\n",
       "      <td>9363_15</td>\n",
       "      <td>Would I gain weight eating Hand Me Down Chocolate Cake?</td>\n",
       "      <td>RELEVANT</td>\n",
       "      <td>The generated answer directly addresses the question by providing information about the nutritional content of the Hand Me Down Chocolate Cake and its potential impact on weight gain. The answer does not simply repeat the question but provides a detailed explanation and cautionary advice, making it relevant to the question.</td>\n",
       "    </tr>\n",
       "    <tr>\n",
       "      <th>37</th>\n",
       "      <td>I apologize, but the context does not provide any information about the amount of salt in the Chocolate Banana Cake. In fact, there's no mention of salt in any of the reviews or ratings provided. If you're looking for nutritional information, the answer is that the sodium content is not specified.</td>\n",
       "      <td>32082_5</td>\n",
       "      <td>Can you tell me the amount of salt in the Chocolate Banana Cake?</td>\n",
       "      <td>RELEVANT</td>\n",
       "      <td>Although the answer does not provide a direct answer to the question, it does provide relevant information in relation to the question. The answer acknowledges that the context does not provide information about the amount of salt, and provides an additional piece of information about the sodium content being unspecified, which still offers some insight into the question.</td>\n",
       "    </tr>\n",
       "    <tr>\n",
       "      <th>39</th>\n",
       "      <td>Based on the nutritional information provided, to reduce the sodium in the Winklers Moravian Sugar Cake, here are some suggestions:\\n\\n1. **Use low-sodium ingredients**: Opt for low-sodium versions of ingredients like butter, sugar, and spices to decrease the overall sodium content.\\n2. **Reduce the amount of salt**: Try using half the amount of salt called for in the recipe or omitting it altogether if possible.\\n3. **Choose unsalted or low-sodium sweeteners**: Instead of white granulated sugar, which contains a significant amount of sodium, consider using unsalted or low-sodium sweeteners like honey, maple syrup, or coconut sugar.\\n4. **Flavor with herbs and spices**: Instead of relying on salt to add flavor, try using herbs and spices like cinnamon, nutmeg, or ginger to give the cake a boost of flavor without adding sodium.\\n\\nBy implementing these suggestions, you should be able to reduce the sodium content of the Winklers Moravian Sugar Cake and make it a slightly healthier option.</td>\n",
       "      <td>26575_5</td>\n",
       "      <td>how can i reduce the sodium in the winklers moravian sugar cake?</td>\n",
       "      <td>RELEVANT</td>\n",
       "      <td>The generated answer directly addresses the question of how to reduce sodium in the Winklers Moravian Sugar Cake, providing specific suggestions and alternatives to reduce sodium content.</td>\n",
       "    </tr>\n",
       "    <tr>\n",
       "      <th>40</th>\n",
       "      <td>Based on the provided context, the carb level of the fudge pudding cake is 23 grams.</td>\n",
       "      <td>13367_8</td>\n",
       "      <td>What's the carb level of the fudge pudding cake I'm ordering?</td>\n",
       "      <td>RELEVANT</td>\n",
       "      <td>The generated answer directly addresses the question about the carb level of the fudge pudding cake, providing the requested information (23 grams) and therefore is highly relevant to the question.</td>\n",
       "    </tr>\n",
       "    <tr>\n",
       "      <th>45</th>\n",
       "      <td>Based on the context, I can answer the question:\\n\\nThe Cake in a mug has 87 grams of total fat (PDV), which suggests that it is high in fat.</td>\n",
       "      <td>3782_3</td>\n",
       "      <td>Is the Cake high in fat</td>\n",
       "      <td>RELEVANT</td>\n",
       "      <td>The generated answer directly addresses the question 'Is the Cake high in fat' by providing a specific amount of fat content in the cake, which corresponds to the definition of 'high in fat'. The answer is relevant to the question and provides sufficient information to answer it accurately.</td>\n",
       "    </tr>\n",
       "  </tbody>\n",
       "</table>\n",
       "</div>"
      ],
      "text/plain": [
       "                                                                                                                                                                                                                                                                                                                                                                                                                                                                                                                                                                                                                                                                                                                                                                                                                                                                                                                                                                                                                                       answer  \\\n",
       "0                                                                                                                                                                                                                                                                                                                                                                                                                                                                                                                                                                                                                                                                                                  Based on the context, I see that you're asking about the Newfoundland Cod Cakes, not the New York Style Cheesecake on Shortbread Crust. According to the Section: steps, the answer is: \"in a skillet fry the patties in the oil , 4-5 minutes each side until they are golden brown\". Therefore, the cod cakes are browned on both sides.   \n",
       "5                                                                                                                                                                                                                                                                                                                                                                                                                                                                                                                                                                                                                                                                                                                                                                                                                                                                                                                                                                    According to the context, The dirt cake ii provides 13 grams of protein.   \n",
       "8                                                                                                                                                                                                                                                                                                                                                                                                                                            Based on the CONTEXT provided, the QUESTION asks: \"Can I make the easy rhubarb cake in under 60 minutes?\"\\n\\nAccording to the REVIEW section, the baking time for this recipe is around 70 minutes, with the reviewer noting that it may take about 45 minutes at a low altitude. However, what's important is that the reviewer mentions planning for at least 45 minutes and checking regularly. This suggests that it may be possible to make the easy rhubarb cake in a time frame of under 60 minutes, but it would require careful monitoring and possibly some adjustments to the recipe.   \n",
       "10                                                                                                                                                                                                                                                                                                                                                                                                                                                                                                                                                                                                                                                                                                                                                                                                                                                                                                                                                           According to the context, the old fashion butter pound cake has 4213.2 calories.   \n",
       "18                                                                                                                                                                                                                                                                                                                                                                                                                                                                                                                                                                                                                                                                                                                                                                                                                                                                                                                                                        Based on the context provided, the Momma's Fair Funnel Cake has 16 grams of sodium.   \n",
       "23                                                                                                                                                                                                                                                                                                                                                                                                                                                                                                                                                                                                                                                                                      Based on the context provided, I didn't find any mention of \"7 up pound cake\" or any information related to it. The provided text only mentions \"up pound cake\" and \"five flavor pound cake\", but not \"7 up pound cake\". Therefore, I cannot answer the question about the flavor profile of \"7 up pound cake\" as it is not mentioned in the context.   \n",
       "24                                                                                                                                                                                                                                                                                                                                                                                                                                                                                                                                                                                                                                                Based on the context provided, the question is \"What's the secret to achieving the Depression Fudge cake's rich color?\"\\n\\nThis question falls under the section of preparation, and the answer is not explicitly mentioned. However, from the steps provided to prepare the Depression Fudge cake, we can infer that it's the addition of cocoa that contributes to the cake's rich color.   \n",
       "27                                                                                                                                                                                                                                                                                                                                                                                                                                                                                                              Based on the nutritional information provided, the Hand Me Down Chocolate Cake contains 14 grams of total fat, 28 grams of saturated fat, and 11 grams of carbohydrates. Since it also has a calorie status of Low Calory, I would say that eating this cake is unlikely to cause significant weight gain, as it is relatively low in calories and fat. However, it's important to keep in mind that consuming large quantities or multiple servings of this cake could potentially lead to weight gain. Enjoy in moderation!   \n",
       "37                                                                                                                                                                                                                                                                                                                                                                                                                                                                                                                                                                                                                                                                                                                                 I apologize, but the context does not provide any information about the amount of salt in the Chocolate Banana Cake. In fact, there's no mention of salt in any of the reviews or ratings provided. If you're looking for nutritional information, the answer is that the sodium content is not specified.   \n",
       "39  Based on the nutritional information provided, to reduce the sodium in the Winklers Moravian Sugar Cake, here are some suggestions:\\n\\n1. **Use low-sodium ingredients**: Opt for low-sodium versions of ingredients like butter, sugar, and spices to decrease the overall sodium content.\\n2. **Reduce the amount of salt**: Try using half the amount of salt called for in the recipe or omitting it altogether if possible.\\n3. **Choose unsalted or low-sodium sweeteners**: Instead of white granulated sugar, which contains a significant amount of sodium, consider using unsalted or low-sodium sweeteners like honey, maple syrup, or coconut sugar.\\n4. **Flavor with herbs and spices**: Instead of relying on salt to add flavor, try using herbs and spices like cinnamon, nutmeg, or ginger to give the cake a boost of flavor without adding sodium.\\n\\nBy implementing these suggestions, you should be able to reduce the sodium content of the Winklers Moravian Sugar Cake and make it a slightly healthier option.   \n",
       "40                                                                                                                                                                                                                                                                                                                                                                                                                                                                                                                                                                                                                                                                                                                                                                                                                                                                                                                                                       Based on the provided context, the carb level of the fudge pudding cake is 23 grams.   \n",
       "45                                                                                                                                                                                                                                                                                                                                                                                                                                                                                                                                                                                                                                                                                                                                                                                                                                                                                              Based on the context, I can answer the question:\\n\\nThe Cake in a mug has 87 grams of total fat (PDV), which suggests that it is high in fat.   \n",
       "\n",
       "          id  \\\n",
       "0   11252_10   \n",
       "5     3333_6   \n",
       "8   32454_11   \n",
       "10   33150_2   \n",
       "18     916_5   \n",
       "23   2923_14   \n",
       "24  12313_13   \n",
       "27   9363_15   \n",
       "37   32082_5   \n",
       "39   26575_5   \n",
       "40   13367_8   \n",
       "45    3782_3   \n",
       "\n",
       "                                                                 question  \\\n",
       "0                                 Are the cod cakes browned on both sides   \n",
       "5                                  dirt cake ii provides how much protein   \n",
       "8                   Can I make the easy rhubarb cake in under 60 minutes?   \n",
       "10        What's the calorie count for the old fashion butter pound cake?   \n",
       "18                          Is the Momma's Fair Funnel Cake high in salt?   \n",
       "23                         What flavor profile does 7 up pound cake have?   \n",
       "24  What's the secret to achieving the Depression Fudge cake's rich color   \n",
       "27                Would I gain weight eating Hand Me Down Chocolate Cake?   \n",
       "37       Can you tell me the amount of salt in the Chocolate Banana Cake?   \n",
       "39       how can i reduce the sodium in the winklers moravian sugar cake?   \n",
       "40          What's the carb level of the fudge pudding cake I'm ordering?   \n",
       "45                                                Is the Cake high in fat   \n",
       "\n",
       "   relevance  \\\n",
       "0   RELEVANT   \n",
       "5   RELEVANT   \n",
       "8   RELEVANT   \n",
       "10  RELEVANT   \n",
       "18  RELEVANT   \n",
       "23  RELEVANT   \n",
       "24  RELEVANT   \n",
       "27  RELEVANT   \n",
       "37  RELEVANT   \n",
       "39  RELEVANT   \n",
       "40  RELEVANT   \n",
       "45  RELEVANT   \n",
       "\n",
       "                                                                                                                                                                                                                                                                                                                                                                                explanation  \n",
       "0                                                                                               The generated answer directly addresses the question 'Are the cod cakes browned on both sides' by referencing specific steps from the provided context. It states that the cod cakes are golden brown, implying they are browned on both sides, making the answer relevant to the question.  \n",
       "5                                                                                                                                                                                                          The generated answer directly responds to the question, providing a specific amount of protein (13 grams) that the dirt cake II is said to provide, thus addressing the inquiry.  \n",
       "8   The answer partially addresses the question by providing information on the baking time of the easy rhubarb cake, specifically that it may take around 70 minutes, but can be done in under 60 minutes with careful monitoring and adjustments. Although the answer does not provide a direct 'yes' or 'no' answer, it provides relevant and useful information to answer the question.  \n",
       "10                                                                                                                                                                                                                                                         The generated answer provides an exact answer to the question, which is the calorie count for the old fashion butter pound cake.  \n",
       "18                                                                                                                                        The generated answer mentions the 16 grams of sodium in the Momma's Fair Funnel Cake, which is a direct answer to the question about the high salt content. The answer provides specific information related to the question, making it relevant.  \n",
       "23                                                                                                                                                                                                     The generated answer addresses the question directly, providing a clear explanation of why 7 Up pound cake is not mentioned in the context, which is the main point of the question.  \n",
       "24                                                               The generated answer attempts to address the question by providing a possible solution to achieve the Depression Fudge cake's rich color. Although it doesn't directly provide the secret, it logically infers the importance of cocoa addition in the preparation process, making it a relevant response to the question.  \n",
       "27                                                    The generated answer directly addresses the question by providing information about the nutritional content of the Hand Me Down Chocolate Cake and its potential impact on weight gain. The answer does not simply repeat the question but provides a detailed explanation and cautionary advice, making it relevant to the question.  \n",
       "37   Although the answer does not provide a direct answer to the question, it does provide relevant information in relation to the question. The answer acknowledges that the context does not provide information about the amount of salt, and provides an additional piece of information about the sodium content being unspecified, which still offers some insight into the question.  \n",
       "39                                                                                                                                                                                              The generated answer directly addresses the question of how to reduce sodium in the Winklers Moravian Sugar Cake, providing specific suggestions and alternatives to reduce sodium content.  \n",
       "40                                                                                                                                                                                    The generated answer directly addresses the question about the carb level of the fudge pudding cake, providing the requested information (23 grams) and therefore is highly relevant to the question.  \n",
       "45                                                                                      The generated answer directly addresses the question 'Is the Cake high in fat' by providing a specific amount of fat content in the cake, which corresponds to the definition of 'high in fat'. The answer is relevant to the question and provides sufficient information to answer it accurately.  "
      ]
     },
     "execution_count": 68,
     "metadata": {},
     "output_type": "execute_result"
    }
   ],
   "source": [
    "df_eval[df_eval.relevance == 'RELEVANT']\n"
   ]
  },
  {
   "cell_type": "code",
   "execution_count": 124,
   "metadata": {},
   "outputs": [
    {
     "data": {
      "text/plain": [
       "'groq'"
      ]
     },
     "execution_count": 124,
     "metadata": {},
     "output_type": "execute_result"
    }
   ],
   "source": [
    "import streamlit as st\n",
    "import time\n",
    "from dotenv import load_dotenv\n",
    "import os\n",
    "import openai  # Fix the import statement\n",
    "from groq import Groq\n",
    "import minsearch\n",
    "import json\n",
    "\n",
    "# Load environment variables\n",
    "load_dotenv()\n",
    "\n",
    "# Setup the OpenAI client to use either Groq, OpenAI.com, or Ollama API\n",
    "API_HOST = os.getenv(\"API_HOST\")\n",
    "API_HOST"
   ]
  },
  {
   "cell_type": "code",
   "execution_count": null,
   "metadata": {},
   "outputs": [],
   "source": []
  },
  {
   "cell_type": "code",
   "execution_count": 1,
   "metadata": {},
   "outputs": [
    {
     "ename": "NameError",
     "evalue": "name 'question_embeddings' is not defined",
     "output_type": "error",
     "traceback": [
      "\u001b[1;31m---------------------------------------------------------------------------\u001b[0m",
      "\u001b[1;31mNameError\u001b[0m                                 Traceback (most recent call last)",
      "Cell \u001b[1;32mIn[1], line 29\u001b[0m\n\u001b[0;32m     26\u001b[0m     \u001b[38;5;28;01mraise\u001b[39;00m \u001b[38;5;167;01mValueError\u001b[39;00m(\u001b[38;5;124m\"\u001b[39m\u001b[38;5;124mNo LLM Selected\u001b[39m\u001b[38;5;124m\"\u001b[39m)\n\u001b[0;32m     28\u001b[0m \u001b[38;5;66;03m# FAISS index setup (assuming embeddings are loaded in question_embeddings)\u001b[39;00m\n\u001b[1;32m---> 29\u001b[0m dimension \u001b[38;5;241m=\u001b[39m \u001b[43mquestion_embeddings\u001b[49m\u001b[38;5;241m.\u001b[39mshape[\u001b[38;5;241m1\u001b[39m]\n\u001b[0;32m     30\u001b[0m index \u001b[38;5;241m=\u001b[39m faiss\u001b[38;5;241m.\u001b[39mIndexFlatL2(dimension)\n\u001b[0;32m     31\u001b[0m index\u001b[38;5;241m.\u001b[39madd(np\u001b[38;5;241m.\u001b[39marray(question_embeddings, dtype\u001b[38;5;241m=\u001b[39m\u001b[38;5;124m'\u001b[39m\u001b[38;5;124mfloat32\u001b[39m\u001b[38;5;124m'\u001b[39m))\n",
      "\u001b[1;31mNameError\u001b[0m: name 'question_embeddings' is not defined"
     ]
    }
   ],
   "source": []
  },
  {
   "cell_type": "code",
   "execution_count": null,
   "metadata": {},
   "outputs": [],
   "source": []
  }
 ],
 "metadata": {
  "kernelspec": {
   "display_name": "Python 3 (ipykernel)",
   "language": "python",
   "name": "python3"
  },
  "language_info": {
   "codemirror_mode": {
    "name": "ipython",
    "version": 3
   },
   "file_extension": ".py",
   "mimetype": "text/x-python",
   "name": "python",
   "nbconvert_exporter": "python",
   "pygments_lexer": "ipython3",
   "version": "3.12.4"
  }
 },
 "nbformat": 4,
 "nbformat_minor": 4
}
